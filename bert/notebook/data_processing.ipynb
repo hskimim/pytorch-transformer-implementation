{
 "cells": [
  {
   "cell_type": "raw",
   "metadata": {},
   "source": [
    "!wget https://storage.googleapis.com/huggingface-nlp/datasets/bookcorpus/bookcorpus.tar.bz2\n",
    "!tar -xvf 'bookcorpus.tar.bz2'"
   ]
  },
  {
   "cell_type": "code",
   "execution_count": 1,
   "metadata": {
    "ExecuteTime": {
     "end_time": "2022-01-28T03:20:31.531553Z",
     "start_time": "2022-01-28T03:20:31.439470Z"
    }
   },
   "outputs": [],
   "source": [
    "from tqdm.notebook import tqdm"
   ]
  },
  {
   "cell_type": "code",
   "execution_count": 2,
   "metadata": {
    "ExecuteTime": {
     "end_time": "2022-01-28T03:20:32.364491Z",
     "start_time": "2022-01-28T03:20:31.534305Z"
    }
   },
   "outputs": [],
   "source": [
    "from torchtext.data.utils import get_tokenizer\n",
    "tokenizer = get_tokenizer(\"basic_english\")"
   ]
  },
  {
   "cell_type": "code",
   "execution_count": 3,
   "metadata": {
    "ExecuteTime": {
     "end_time": "2022-01-28T03:29:53.515135Z",
     "start_time": "2022-01-28T03:20:32.370021Z"
    }
   },
   "outputs": [
    {
     "name": "stdout",
     "output_type": "stream",
     "text": [
      "===read is finished===\n"
     ]
    },
    {
     "data": {
      "application/vnd.jupyter.widget-view+json": {
       "model_id": "0fd381d4c05e47f4b2828cdeaa17ea2b",
       "version_major": 2,
       "version_minor": 0
      },
      "text/plain": [
       "  0%|          | 0/34004228 [00:00<?, ?it/s]"
      ]
     },
     "metadata": {},
     "output_type": "display_data"
    },
    {
     "name": "stdout",
     "output_type": "stream",
     "text": [
      "===merge sentences is finished for getting longer sequence===\n",
      "=== subsequent sentences are concated for NSP task===\n",
      "=== dump files is finished===\n"
     ]
    }
   ],
   "source": [
    "with open(\"books_large_p2.txt\") as f : \n",
    "    lines = f.readlines()\n",
    "print(\"===read is finished===\")\n",
    "\n",
    "docs = []\n",
    "doc = ''\n",
    "cnt = 0\n",
    "lemma_dict = {'<unk>':0, '<pad>':1, '<cls>':2, '<sep>':3, '<mask>':4}\n",
    "\n",
    "for sentence in tqdm(lines) : \n",
    "    \n",
    "    prep = sentence[:-1].strip()\n",
    "    prep = prep.replace('``','').replace(\"''\",\"\")\n",
    "    \n",
    "    tokens = tokenizer(prep)\n",
    "    for token in tokens : \n",
    "        if lemma_dict.get(token) is None : \n",
    "            lemma_dict[token] = len(lemma_dict)\n",
    "                \n",
    "    doc += prep\n",
    "    cnt += 1\n",
    "    if cnt == 10 : \n",
    "        docs.append(doc)\n",
    "        doc = ''\n",
    "        cnt = 0\n",
    "print(\"===merge sentences is finished for getting longer sequence===\")\n",
    "\n",
    "cated_ls = []\n",
    "\n",
    "for idx in range(len(docs)) : \n",
    "    if idx < len(docs)-1:\n",
    "        cated = (docs[idx] + '\\t' + docs[idx+1])\n",
    "        cated_ls.append(cated)\n",
    "print(\"=== subsequent sentences are concated for NSP task===\")\n",
    "\n",
    "with open('prep_docs.txt', 'w') as f:\n",
    "    for doc in cated_ls :\n",
    "        f.write(\"%s\\n\" % doc)\n",
    "print(\"=== dump files is finished===\")"
   ]
  },
  {
   "cell_type": "code",
   "execution_count": 7,
   "metadata": {
    "ExecuteTime": {
     "end_time": "2022-01-28T03:33:35.312434Z",
     "start_time": "2022-01-28T03:33:34.543994Z"
    }
   },
   "outputs": [],
   "source": [
    "import pandas as pd\n",
    "\n",
    "pd.to_pickle(lemma_dict, \"lemma_dict.pickle\")"
   ]
  }
 ],
 "metadata": {
  "kernelspec": {
   "display_name": "Python 3",
   "language": "python",
   "name": "python3"
  },
  "language_info": {
   "codemirror_mode": {
    "name": "ipython",
    "version": 3
   },
   "file_extension": ".py",
   "mimetype": "text/x-python",
   "name": "python",
   "nbconvert_exporter": "python",
   "pygments_lexer": "ipython3",
   "version": "3.8.5"
  }
 },
 "nbformat": 4,
 "nbformat_minor": 4
}
