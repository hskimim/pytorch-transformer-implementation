{
 "cells": [
  {
   "cell_type": "raw",
   "metadata": {},
   "source": [
    "!wget https://storage.googleapis.com/huggingface-nlp/datasets/bookcorpus/bookcorpus.tar.bz2\n",
    "!tar -xvf 'bookcorpus.tar.bz2'"
   ]
  },
  {
   "cell_type": "code",
   "execution_count": 1,
   "metadata": {
    "ExecuteTime": {
     "end_time": "2022-01-29T02:34:21.811682Z",
     "start_time": "2022-01-29T02:34:21.714761Z"
    }
   },
   "outputs": [],
   "source": [
    "from tqdm.notebook import tqdm\n",
    "import os"
   ]
  },
  {
   "cell_type": "code",
   "execution_count": 4,
   "metadata": {
    "ExecuteTime": {
     "end_time": "2022-01-29T02:34:53.207297Z",
     "start_time": "2022-01-29T02:34:53.188534Z"
    },
    "scrolled": true
   },
   "outputs": [],
   "source": [
    "def prepare_raw_txt(raw_fname, prep_fname=None) : \n",
    "    with open(raw_fname) as f : \n",
    "        lines = f.readlines()\n",
    "    print(\"===read is finished===\")\n",
    "\n",
    "    docs = []\n",
    "    doc = ''\n",
    "    cnt = 0\n",
    "\n",
    "    for sentence in tqdm(lines) : \n",
    "\n",
    "        prep = sentence[:-1].strip()\n",
    "        prep = prep.replace('``','').replace(\"''\",\"\")\n",
    "\n",
    "        doc += prep\n",
    "        cnt += 1\n",
    "        if cnt == 10 : \n",
    "            docs.append(doc)\n",
    "            doc = ''\n",
    "            cnt = 0\n",
    "    print(\"===merge sentences is finished for getting longer sequence===\")\n",
    "\n",
    "    cated_ls = []\n",
    "\n",
    "    for idx in range(len(docs)) : \n",
    "        if idx < len(docs)-1:\n",
    "            cated = (docs[idx] + '\\t' + docs[idx+1])\n",
    "            cated_ls.append(cated)\n",
    "    print(\"=== subsequent sentences are concated for NSP task===\")\n",
    "    \n",
    "    if prep_fname is None : \n",
    "        prep_fname = os.path.join(os.path.dirname(raw_fname), 'prep_' + os.path.basename(raw_fname))\n",
    "    with open(prep_fname, 'w') as f:\n",
    "        for doc in cated_ls :\n",
    "            f.write(\"%s\\n\" % doc)\n",
    "    print(\"=== dump files is finished===\")"
   ]
  },
  {
   "cell_type": "code",
   "execution_count": 5,
   "metadata": {
    "ExecuteTime": {
     "end_time": "2022-01-29T02:35:33.824662Z",
     "start_time": "2022-01-29T02:34:53.417549Z"
    }
   },
   "outputs": [
    {
     "name": "stdout",
     "output_type": "stream",
     "text": [
      "===read is finished===\n"
     ]
    },
    {
     "data": {
      "application/vnd.jupyter.widget-view+json": {
       "model_id": "79d6832d27324391ad0639729c21c1b6",
       "version_major": 2,
       "version_minor": 0
      },
      "text/plain": [
       "  0%|          | 0/34004228 [00:00<?, ?it/s]"
      ]
     },
     "metadata": {},
     "output_type": "display_data"
    },
    {
     "name": "stdout",
     "output_type": "stream",
     "text": [
      "===merge sentences is finished for getting longer sequence===\n",
      "=== subsequent sentences are concated for NSP task===\n",
      "=== dump files is finished===\n"
     ]
    }
   ],
   "source": [
    "prepare_raw_txt('../data/train.txt', '../data/prep_train.txt')"
   ]
  },
  {
   "cell_type": "markdown",
   "metadata": {},
   "source": [
    "___"
   ]
  },
  {
   "cell_type": "code",
   "execution_count": 7,
   "metadata": {
    "ExecuteTime": {
     "end_time": "2022-01-29T02:39:32.128640Z",
     "start_time": "2022-01-29T02:39:32.123012Z"
    }
   },
   "outputs": [],
   "source": [
    "import sentencepiece as spm"
   ]
  },
  {
   "cell_type": "code",
   "execution_count": 9,
   "metadata": {
    "ExecuteTime": {
     "end_time": "2022-01-29T02:39:41.220108Z",
     "start_time": "2022-01-29T02:39:41.172743Z"
    }
   },
   "outputs": [
    {
     "name": "stdout",
     "output_type": "stream",
     "text": [
      "0\n",
      "1\n",
      "2\n",
      "3\n"
     ]
    }
   ],
   "source": [
    "sp = spm.SentencePieceProcessor()\n",
    "sp.Load('../data/m.model')\n",
    "\n",
    "print(sp.pad_id()) # 결과: 0\n",
    "print(sp.bos_id()) # 결과: 1\n",
    "print(sp.eos_id()) # 결과: 2\n",
    "print(sp.unk_id()) # 결과: 3"
   ]
  },
  {
   "cell_type": "code",
   "execution_count": 35,
   "metadata": {
    "ExecuteTime": {
     "end_time": "2022-01-29T02:56:20.161372Z",
     "start_time": "2022-01-29T02:56:20.155996Z"
    }
   },
   "outputs": [],
   "source": [
    "doc = '[CLS] ' + doc + ' [SEP] ' + ' [MASK]'"
   ]
  },
  {
   "cell_type": "code",
   "execution_count": 40,
   "metadata": {
    "ExecuteTime": {
     "end_time": "2022-01-29T02:57:16.216863Z",
     "start_time": "2022-01-29T02:57:16.208893Z"
    }
   },
   "outputs": [
    {
     "data": {
      "text/plain": [
       "['▁', '[CLS]']"
      ]
     },
     "execution_count": 40,
     "metadata": {},
     "output_type": "execute_result"
    }
   ],
   "source": [
    "sp.encode_as_pieces('[CLS]')"
   ]
  },
  {
   "cell_type": "code",
   "execution_count": 36,
   "metadata": {
    "ExecuteTime": {
     "end_time": "2022-01-29T02:56:20.606561Z",
     "start_time": "2022-01-29T02:56:20.591999Z"
    },
    "scrolled": false
   },
   "outputs": [
    {
     "name": "stdout",
     "output_type": "stream",
     "text": [
      "raw text:  [CLS] usually , he would be tearing around the living room , playing with his toys .but just one look at a minion sent him practically catatonic .that had been megan 's plan when she got him dressed earlier .he 'd seen the movie almost by mistake , considering he was a little young for the pg cartoon , but with older cousins , along with her brothers , mason was often exposed to things that were older .she liked to think being surrounded by adults and older kids was one reason why he was a such a good talker for his age .\t are n't you being a good boy ? she said .mason barely acknowledged her .instead , his baby blues remained focused on the television .since the movie was almost over , megan knew she better slip into the bedroom and finish getting ready . [SEP]  [MASK]\n",
      "\n",
      "enc text:  ['▁', '[CLS]', '▁', 'usually', '▁,', '▁he', '▁would', '▁be', '▁tearing', '▁around', '▁the', '▁living', '▁room', '▁,', '▁playing', '▁with', '▁his', '▁to', 'y', 's', '▁.', 'but', '▁just', '▁one', '▁look', '▁at', '▁a', '▁mini', 'on', '▁sent', '▁him', '▁practically', '▁cat', 'at', 'onic', '▁.', 'that', '▁had', '▁been', '▁megan', \"▁'\", 's', '▁plan', '▁when', '▁she', '▁got', '▁him', '▁dressed', '▁earlier', '▁.', 'he', \"▁'\", 'd', '▁seen', '▁the', '▁movie', '▁almost', '▁by', '▁mistake', '▁,', '▁considering', '▁he', '▁was', '▁a', '▁little', '▁young', '▁for', '▁the', '▁p', 'g', '▁cartoon', '▁,', '▁but', '▁with', '▁older', '▁cousin', 's', '▁,', '▁along', '▁with', '▁her', '▁brothers', '▁,', '▁mason', '▁was', '▁often', '▁exposed', '▁to', '▁things', '▁that', '▁were', '▁older', '▁.', 'she', '▁liked', '▁to', '▁think', '▁being', '▁surround', 'ed', '▁by', '▁adult', 's', '▁and', '▁older', '▁kids', '▁was', '▁one', '▁reason', '▁why', '▁he', '▁was', '▁a', '▁such', '▁a', '▁good', '▁talk', 'er', '▁for', '▁his', '▁age', '▁.', '▁are', '▁n', \"'\", 't', '▁you', '▁being', '▁a', '▁good', '▁boy', '▁?', '▁she', '▁said', '▁.', 'ma', 'son', '▁barely', '▁acknowledge', 'd', '▁her', '▁.', 'in', 'stead', '▁,', '▁his', '▁baby', '▁blue', 's', '▁remained', '▁focused', '▁on', '▁the', '▁television', '▁.', 's', 'in', 'ce', '▁the', '▁movie', '▁was', '▁almost', '▁over', '▁,', '▁megan', '▁knew', '▁she', '▁better', '▁slip', '▁into', '▁the', '▁bedroom', '▁and', '▁finish', '▁getting', '▁ready', '▁.', '▁', '[SEP]', '▁', '[MASK]']\n",
      "\n",
      "dec text:  usually , he would be tearing around the living room , playing with his toys .but just one look at a minion sent him practically catatonic .that had been megan 's plan when she got him dressed earlier .he 'd seen the movie almost by mistake , considering he was a little young for the pg cartoon , but with older cousins , along with her brothers , mason was often exposed to things that were older .she liked to think being surrounded by adults and older kids was one reason why he was a such a good talker for his age . are n't you being a good boy ? she said .mason barely acknowledged her .instead , his baby blues remained focused on the television .since the movie was almost over , megan knew she better slip into the bedroom and finish getting ready .  [MASK]\n",
      "\n",
      "enc ids:  [37, 3, 37, 1997, 8, 18, 64, 47, 4491, 108, 9, 653, 158, 8, 1165, 36, 27, 11, 88, 10, 7, 1159, 75, 70, 141, 45, 15, 3016, 287, 672, 44, 2516, 1273, 814, 5637, 7, 1841, 38, 80, 5094, 17, 10, 726, 74, 23, 160, 44, 1233, 1080, 7, 742, 17, 33, 325, 9, 2384, 275, 98, 1501, 8, 2148, 18, 21, 15, 157, 578, 42, 9, 786, 524, 9915, 8, 43, 36, 1289, 2377, 10, 8, 359, 36, 20, 1816, 8, 3700, 21, 1154, 3335, 11, 224, 28, 67, 1289, 7, 1705, 928, 11, 119, 200, 1883, 29, 98, 3262, 10, 13, 1289, 1013, 21, 70, 474, 143, 18, 21, 15, 371, 15, 139, 326, 126, 42, 27, 1176, 7, 85, 30, 31, 24, 22, 200, 15, 139, 484, 32, 23, 54, 7, 847, 1012, 772, 3989, 33, 20, 7, 222, 7901, 8, 27, 529, 477, 10, 1215, 1678, 40, 9, 3990, 7, 10, 222, 790, 9, 2384, 21, 275, 81, 8, 5094, 148, 23, 254, 1899, 73, 9, 901, 13, 1475, 351, 438, 7, 37, 3, 37, 6]\n",
      "\n"
     ]
    }
   ],
   "source": [
    "encode_piece = sp.EncodeAsPieces(doc)\n",
    "\n",
    "print(\"raw text: \", doc)\n",
    "print(\"\")\n",
    "print(\"enc text: \", encode_piece)\n",
    "print(\"\")\n",
    "print(\"dec text: \", sp.decode_pieces(encode_piece))\n",
    "print(\"\")\n",
    "print(\"enc ids: \", sp.EncodeAsIds(doc))\n",
    "print(\"\")"
   ]
  }
 ],
 "metadata": {
  "kernelspec": {
   "display_name": "Python 3",
   "language": "python",
   "name": "python3"
  },
  "language_info": {
   "codemirror_mode": {
    "name": "ipython",
    "version": 3
   },
   "file_extension": ".py",
   "mimetype": "text/x-python",
   "name": "python",
   "nbconvert_exporter": "python",
   "pygments_lexer": "ipython3",
   "version": "3.8.5"
  }
 },
 "nbformat": 4,
 "nbformat_minor": 4
}
