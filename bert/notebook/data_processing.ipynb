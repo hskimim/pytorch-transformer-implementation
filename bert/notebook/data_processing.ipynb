{
 "cells": [
  {
   "cell_type": "raw",
   "metadata": {},
   "source": [
    "!wget https://storage.googleapis.com/huggingface-nlp/datasets/bookcorpus/bookcorpus.tar.bz2\n",
    "!tar -xvf 'bookcorpus.tar.bz2'"
   ]
  },
  {
   "cell_type": "code",
   "execution_count": 28,
   "metadata": {
    "ExecuteTime": {
     "end_time": "2022-02-01T15:31:40.280604Z",
     "start_time": "2022-02-01T15:31:40.274931Z"
    }
   },
   "outputs": [],
   "source": [
    "from tqdm.notebook import tqdm\n",
    "import os\n",
    "import re\n",
    "from nltk import sent_tokenize"
   ]
  },
  {
   "cell_type": "raw",
   "metadata": {
    "ExecuteTime": {
     "end_time": "2022-02-01T15:37:07.502960Z",
     "start_time": "2022-02-01T15:37:06.771826Z"
    }
   },
   "source": [
    "docs = open('../data/wikitext-2-raw/wiki.test.raw').read().splitlines()\n",
    "sent_splitted_docs = []\n",
    "\n",
    "for doc in docs : \n",
    "    splitted = sent_tokenize(doc)\n",
    "    sent_splitted_docs += splitted\n",
    "\n",
    "filter1 = list(filter(lambda x : x.strip(), sent_splitted_docs))\n",
    "filter2 = list(filter(lambda x : len(re.findall('=', x)) < 2, filter1))\n",
    "with open('../data/wikitext-2-raw/test.txt', 'w') as f : \n",
    "    for doc in filter2 :\n",
    "        f.write(\"%s\\n\" % doc)"
   ]
  },
  {
   "cell_type": "code",
   "execution_count": 46,
   "metadata": {
    "ExecuteTime": {
     "end_time": "2022-02-01T15:37:11.771879Z",
     "start_time": "2022-02-01T15:37:11.754008Z"
    },
    "scrolled": true
   },
   "outputs": [],
   "source": [
    "def prepare_raw_txt(raw_fname, prep_fname=None) : \n",
    "    with open(raw_fname) as f : \n",
    "        lines = f.readlines()\n",
    "    print(\"===read is finished===\")\n",
    "\n",
    "    docs = []\n",
    "    doc = ''\n",
    "    cnt = 0\n",
    "\n",
    "    for sentence in tqdm(lines) : \n",
    "\n",
    "        prep = sentence[:-1].strip()\n",
    "        prep = prep.replace('``','').replace(\"''\",\"\")\n",
    "\n",
    "        doc += prep\n",
    "        cnt += 1\n",
    "        if cnt == 10 : \n",
    "            docs.append(doc)\n",
    "            doc = ''\n",
    "            cnt = 0\n",
    "    print(\"===merge sentences is finished for getting longer sequence===\")\n",
    "\n",
    "    cated_ls = []\n",
    "\n",
    "    for idx in range(len(docs)) : \n",
    "        if idx < len(docs)-1:\n",
    "            cated = (docs[idx] + '\\t' + docs[idx+1])\n",
    "            cated_ls.append(cated)\n",
    "    print(\"=== subsequent sentences are concated for NSP task===\")\n",
    "    \n",
    "    if prep_fname is None : \n",
    "        prep_fname = os.path.join(os.path.dirname(raw_fname), 'prep_' + os.path.basename(raw_fname))\n",
    "    with open(prep_fname, 'w') as f:\n",
    "        for doc in cated_ls :\n",
    "            f.write(\"%s\\n\" % doc)\n",
    "    print(\"=== dump files is finished===\")"
   ]
  },
  {
   "cell_type": "code",
   "execution_count": 48,
   "metadata": {
    "ExecuteTime": {
     "end_time": "2022-02-01T15:37:31.699468Z",
     "start_time": "2022-02-01T15:37:31.585453Z"
    }
   },
   "outputs": [
    {
     "name": "stdout",
     "output_type": "stream",
     "text": [
      "===read is finished===\n"
     ]
    },
    {
     "data": {
      "application/vnd.jupyter.widget-view+json": {
       "model_id": "d0854da7b17a481584cc902567c1d0f9",
       "version_major": 2,
       "version_minor": 0
      },
      "text/plain": [
       "  0%|          | 0/8449 [00:00<?, ?it/s]"
      ]
     },
     "metadata": {},
     "output_type": "display_data"
    },
    {
     "name": "stdout",
     "output_type": "stream",
     "text": [
      "===merge sentences is finished for getting longer sequence===\n",
      "=== subsequent sentences are concated for NSP task===\n",
      "=== dump files is finished===\n"
     ]
    }
   ],
   "source": [
    "prepare_raw_txt('../data/wikitext-2-raw//valid.txt')"
   ]
  }
 ],
 "metadata": {
  "kernelspec": {
   "display_name": "Python 3",
   "language": "python",
   "name": "python3"
  },
  "language_info": {
   "codemirror_mode": {
    "name": "ipython",
    "version": 3
   },
   "file_extension": ".py",
   "mimetype": "text/x-python",
   "name": "python",
   "nbconvert_exporter": "python",
   "pygments_lexer": "ipython3",
   "version": "3.8.5"
  }
 },
 "nbformat": 4,
 "nbformat_minor": 4
}
