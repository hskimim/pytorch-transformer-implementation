{
 "cells": [
  {
   "cell_type": "raw",
   "metadata": {},
   "source": [
    "!wget https://storage.googleapis.com/huggingface-nlp/datasets/bookcorpus/bookcorpus.tar.bz2\n",
    "!tar -xvf 'bookcorpus.tar.bz2'"
   ]
  },
  {
   "cell_type": "code",
   "execution_count": 1,
   "metadata": {
    "ExecuteTime": {
     "end_time": "2022-01-29T16:59:07.345585Z",
     "start_time": "2022-01-29T16:59:07.250940Z"
    }
   },
   "outputs": [],
   "source": [
    "from tqdm.notebook import tqdm\n",
    "import os"
   ]
  },
  {
   "cell_type": "code",
   "execution_count": 2,
   "metadata": {
    "ExecuteTime": {
     "end_time": "2022-01-29T16:59:07.795950Z",
     "start_time": "2022-01-29T16:59:07.778966Z"
    },
    "scrolled": true
   },
   "outputs": [],
   "source": [
    "def prepare_raw_txt(raw_fname, prep_fname=None) : \n",
    "    with open(raw_fname) as f : \n",
    "        lines = f.readlines()\n",
    "    print(\"===read is finished===\")\n",
    "\n",
    "    docs = []\n",
    "    doc = ''\n",
    "    cnt = 0\n",
    "\n",
    "    for sentence in tqdm(lines) : \n",
    "\n",
    "        prep = sentence[:-1].strip()\n",
    "        prep = prep.replace('``','').replace(\"''\",\"\")\n",
    "\n",
    "        doc += prep\n",
    "        cnt += 1\n",
    "        if cnt == 10 : \n",
    "            docs.append(doc)\n",
    "            doc = ''\n",
    "            cnt = 0\n",
    "    print(\"===merge sentences is finished for getting longer sequence===\")\n",
    "\n",
    "    cated_ls = []\n",
    "\n",
    "    for idx in range(len(docs)) : \n",
    "        if idx < len(docs)-1:\n",
    "            cated = (docs[idx] + '\\t' + docs[idx+1])\n",
    "            cated_ls.append(cated)\n",
    "    print(\"=== subsequent sentences are concated for NSP task===\")\n",
    "    \n",
    "    if prep_fname is None : \n",
    "        prep_fname = os.path.join(os.path.dirname(raw_fname), 'prep_' + os.path.basename(raw_fname))\n",
    "    with open(prep_fname, 'w') as f:\n",
    "        for doc in cated_ls :\n",
    "            f.write(\"%s\\n\" % doc)\n",
    "    print(\"=== dump files is finished===\")"
   ]
  },
  {
   "cell_type": "code",
   "execution_count": 3,
   "metadata": {
    "ExecuteTime": {
     "end_time": "2022-01-29T16:59:41.006372Z",
     "start_time": "2022-01-29T16:59:18.493624Z"
    }
   },
   "outputs": [
    {
     "name": "stdout",
     "output_type": "stream",
     "text": [
      "===read is finished===\n"
     ]
    },
    {
     "data": {
      "application/vnd.jupyter.widget-view+json": {
       "model_id": "cb234dfb84784c77bbe0dd5779261ae3",
       "version_major": 2,
       "version_minor": 0
      },
      "text/plain": [
       "  0%|          | 0/17002114 [00:00<?, ?it/s]"
      ]
     },
     "metadata": {},
     "output_type": "display_data"
    },
    {
     "name": "stdout",
     "output_type": "stream",
     "text": [
      "===merge sentences is finished for getting longer sequence===\n",
      "=== subsequent sentences are concated for NSP task===\n",
      "=== dump files is finished===\n"
     ]
    }
   ],
   "source": [
    "prepare_raw_txt('../data/valid.txt', '../data/prep_valid.txt')"
   ]
  }
 ],
 "metadata": {
  "kernelspec": {
   "display_name": "Python 3",
   "language": "python",
   "name": "python3"
  },
  "language_info": {
   "codemirror_mode": {
    "name": "ipython",
    "version": 3
   },
   "file_extension": ".py",
   "mimetype": "text/x-python",
   "name": "python",
   "nbconvert_exporter": "python",
   "pygments_lexer": "ipython3",
   "version": "3.8.5"
  }
 },
 "nbformat": 4,
 "nbformat_minor": 4
}
