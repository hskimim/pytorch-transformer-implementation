{
 "cells": [
  {
   "cell_type": "raw",
   "metadata": {},
   "source": [
    "!wget https://s3.amazonaws.com/research.metamind.io/wikitext/wikitext-2-raw-v1.zip\n",
    "!unzip wikitext-2-raw-v1.zip"
   ]
  },
  {
   "cell_type": "code",
   "execution_count": 1,
   "metadata": {
    "ExecuteTime": {
     "end_time": "2022-02-14T14:58:06.619867Z",
     "start_time": "2022-02-14T14:58:06.521603Z"
    }
   },
   "outputs": [],
   "source": [
    "from tqdm.notebook import tqdm\n",
    "import os"
   ]
  },
  {
   "cell_type": "code",
   "execution_count": 15,
   "metadata": {
    "ExecuteTime": {
     "end_time": "2022-02-14T15:00:10.664758Z",
     "start_time": "2022-02-14T15:00:10.647175Z"
    },
    "scrolled": true
   },
   "outputs": [],
   "source": [
    "def prepare_raw_txt(raw_fname, prep_fname=None) : \n",
    "    with open(raw_fname) as f : \n",
    "        lines = f.readlines()\n",
    "    print(\"===read is finished===\")\n",
    "\n",
    "    docs = []\n",
    "    doc = ''\n",
    "    cnt = 0\n",
    "\n",
    "    for sentence in tqdm(lines) : \n",
    "\n",
    "        prep = sentence.strip()\n",
    "        prep = prep.replace('``','').replace(\"''\",\"\")\n",
    "\n",
    "        doc += prep\n",
    "        cnt += 1\n",
    "        if cnt == 10 : \n",
    "            docs.append(doc)\n",
    "            doc = ''\n",
    "            cnt = 0\n",
    "    print(\"===merge sentences is finished for getting longer sequence===\")\n",
    "\n",
    "    cated_ls = []\n",
    "\n",
    "    for idx in range(len(docs)) : \n",
    "        if idx < len(docs)-1:\n",
    "            cated = (docs[idx] + '\\t' + docs[idx+1])\n",
    "            cated_ls.append(cated)\n",
    "    print(\"=== subsequent sentences are concated for NSP task===\")\n",
    "    \n",
    "    if prep_fname is None : \n",
    "        prep_fname = os.path.join(os.path.dirname(raw_fname), 'prep_' + os.path.basename(raw_fname))\n",
    "    with open(prep_fname, 'w') as f:\n",
    "        for doc in cated_ls :\n",
    "            f.write(\"%s\\n\" % doc)\n",
    "    print(\"=== dump files is finished===\")"
   ]
  },
  {
   "cell_type": "code",
   "execution_count": 18,
   "metadata": {
    "ExecuteTime": {
     "end_time": "2022-02-14T15:00:36.465648Z",
     "start_time": "2022-02-14T15:00:36.371087Z"
    }
   },
   "outputs": [
    {
     "name": "stdout",
     "output_type": "stream",
     "text": [
      "===read is finished===\n"
     ]
    },
    {
     "data": {
      "application/vnd.jupyter.widget-view+json": {
       "model_id": "3ed5c049df7545f589b53d73caba8f24",
       "version_major": 2,
       "version_minor": 0
      },
      "text/plain": [
       "  0%|          | 0/4358 [00:00<?, ?it/s]"
      ]
     },
     "metadata": {},
     "output_type": "display_data"
    },
    {
     "name": "stdout",
     "output_type": "stream",
     "text": [
      "===merge sentences is finished for getting longer sequence===\n",
      "=== subsequent sentences are concated for NSP task===\n",
      "=== dump files is finished===\n"
     ]
    }
   ],
   "source": [
    "prepare_raw_txt('./wikitext-2-raw/wiki.train.raw')"
   ]
  },
  {
   "cell_type": "raw",
   "metadata": {},
   "source": [
    "! python tokenize.py"
   ]
  }
 ],
 "metadata": {
  "kernelspec": {
   "display_name": "Python 3",
   "language": "python",
   "name": "python3"
  },
  "language_info": {
   "codemirror_mode": {
    "name": "ipython",
    "version": 3
   },
   "file_extension": ".py",
   "mimetype": "text/x-python",
   "name": "python",
   "nbconvert_exporter": "python",
   "pygments_lexer": "ipython3",
   "version": "3.8.5"
  }
 },
 "nbformat": 4,
 "nbformat_minor": 4
}
