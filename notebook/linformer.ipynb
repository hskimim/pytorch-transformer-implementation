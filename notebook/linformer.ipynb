{
 "cells": [
  {
   "cell_type": "code",
   "execution_count": 1,
   "metadata": {
    "ExecuteTime": {
     "end_time": "2022-02-14T15:26:15.973506Z",
     "start_time": "2022-02-14T15:26:15.968782Z"
    }
   },
   "outputs": [],
   "source": [
    "import sys\n",
    "sys.path.append(\"../\")"
   ]
  },
  {
   "cell_type": "code",
   "execution_count": 2,
   "metadata": {
    "ExecuteTime": {
     "end_time": "2022-02-14T15:26:16.770990Z",
     "start_time": "2022-02-14T15:26:15.980533Z"
    }
   },
   "outputs": [
    {
     "name": "stdout",
     "output_type": "stream",
     "text": [
      "('liu', '888', 'bin', 'liu', '888', 'bin')\n",
      "{'one': 1, 'two': 2}\n",
      "dict_values([1, 2])\n"
     ]
    }
   ],
   "source": [
    "import torch\n",
    "import torch.nn as nn\n",
    "\n",
    "from bert.dataset import iterator\n",
    "from bert.trainer import pretrain"
   ]
  },
  {
   "cell_type": "code",
   "execution_count": 3,
   "metadata": {
    "ExecuteTime": {
     "end_time": "2022-02-14T15:26:16.782163Z",
     "start_time": "2022-02-14T15:26:16.772967Z"
    }
   },
   "outputs": [],
   "source": [
    "from linformer.layer import linformer_fc, linformer_emb"
   ]
  },
  {
   "cell_type": "markdown",
   "metadata": {},
   "source": [
    "____"
   ]
  },
  {
   "cell_type": "code",
   "execution_count": 4,
   "metadata": {
    "ExecuteTime": {
     "end_time": "2022-02-14T15:26:16.846608Z",
     "start_time": "2022-02-14T15:26:16.784303Z"
    }
   },
   "outputs": [],
   "source": [
    "p = pretrain.Pretrain()"
   ]
  },
  {
   "cell_type": "code",
   "execution_count": 5,
   "metadata": {
    "ExecuteTime": {
     "end_time": "2022-02-14T15:26:17.072455Z",
     "start_time": "2022-02-14T15:26:16.850491Z"
    }
   },
   "outputs": [],
   "source": [
    "p.load_data(train_fname = '../data/wikitext-2-raw/prep_wiki.train.raw',\n",
    "           valid_fname='../data/wikitext-2-raw/prep_wiki.valid.raw',\n",
    "           tokenizer_fname='../data/m.model')"
   ]
  },
  {
   "cell_type": "code",
   "execution_count": 6,
   "metadata": {
    "ExecuteTime": {
     "end_time": "2022-02-14T15:26:21.192852Z",
     "start_time": "2022-02-14T15:26:17.074783Z"
    }
   },
   "outputs": [],
   "source": [
    "d_model = 128\n",
    "d_ff = 256\n",
    "n_head = 8\n",
    "d_k = d_model//4\n",
    "vocab_size = p._train_dataset.vocab.vocab_size\n",
    "pad_id = p._train_dataset.vocab.pad_id\n",
    "dropout_p = 0.1\n",
    "n_enc_layer = 3\n",
    "seq_length = p._train_dataset.seq_len\n",
    "device = 'cuda' if torch.cuda.is_available() else 'cpu'\n",
    "\n",
    "linformer = linformer_emb.Linformer(vocab_size,\n",
    "                                     seq_length,\n",
    "                                     pad_id,\n",
    "                                     d_model,\n",
    "                                     d_ff,\n",
    "                                     d_k,\n",
    "                                     n_head,\n",
    "                                     dropout_p,\n",
    "                                     n_enc_layer).to(device)\n",
    "\n",
    "# model = nn.DataParallel(linformer_fc.LinformerFC(linformer, d_model, vocab_size))\n",
    "model = linformer_fc.LinformerFC(linformer, d_model, vocab_size)\n",
    "\n",
    "p.load_model(model)"
   ]
  },
  {
   "cell_type": "markdown",
   "metadata": {},
   "source": [
    "____"
   ]
  },
  {
   "cell_type": "code",
   "execution_count": null,
   "metadata": {
    "ExecuteTime": {
     "start_time": "2022-02-14T15:34:55.634Z"
    },
    "scrolled": true
   },
   "outputs": [
    {
     "name": "stderr",
     "output_type": "stream",
     "text": [
      "train: 100%|██████████| 123/123 [00:23<00:00,  5.27it/s]\n"
     ]
    },
    {
     "name": "stdout",
     "output_type": "stream",
     "text": [
      "\tTrain Total Loss: 12.636 | Train MLM Loss: 11.476 | Train NSP Loss: 1.160            | MLM ACC :  0.009 | NSP ACC :  0.497 | Learning Rate : 0.096\n"
     ]
    },
    {
     "name": "stderr",
     "output_type": "stream",
     "text": [
      "valid: 100%|██████████| 13/13 [00:01<00:00,  8.02it/s]\n"
     ]
    },
    {
     "name": "stdout",
     "output_type": "stream",
     "text": [
      "\\Valid Total Loss: 46.333 | Valid MLM Loss: 42.895 | Valid NSP Loss: 3.438                | MLM ACC :  0.001 | NSP ACC :  0.474\n"
     ]
    },
    {
     "name": "stderr",
     "output_type": "stream",
     "text": [
      "train: 100%|██████████| 123/123 [00:22<00:00,  5.59it/s]\n"
     ]
    },
    {
     "name": "stdout",
     "output_type": "stream",
     "text": [
      "\tTrain Total Loss: 24.966 | Train MLM Loss: 23.648 | Train NSP Loss: 1.318            | MLM ACC :  0.007 | NSP ACC :  0.490 | Learning Rate : 0.091\n"
     ]
    },
    {
     "name": "stderr",
     "output_type": "stream",
     "text": [
      "valid: 100%|██████████| 13/13 [00:01<00:00,  9.21it/s]\n"
     ]
    },
    {
     "name": "stdout",
     "output_type": "stream",
     "text": [
      "\\Valid Total Loss: 12.192 | Valid MLM Loss: 11.482 | Valid NSP Loss: 0.709                | MLM ACC :  0.013 | NSP ACC :  0.490\n"
     ]
    },
    {
     "name": "stderr",
     "output_type": "stream",
     "text": [
      "train: 100%|██████████| 123/123 [00:22<00:00,  5.47it/s]\n"
     ]
    },
    {
     "name": "stdout",
     "output_type": "stream",
     "text": [
      "\tTrain Total Loss: 11.045 | Train MLM Loss: 10.331 | Train NSP Loss: 0.714            | MLM ACC :  0.012 | NSP ACC :  0.496 | Learning Rate : 0.086\n"
     ]
    },
    {
     "name": "stderr",
     "output_type": "stream",
     "text": [
      "valid: 100%|██████████| 13/13 [00:01<00:00, 10.41it/s]\n"
     ]
    },
    {
     "name": "stdout",
     "output_type": "stream",
     "text": [
      "\\Valid Total Loss: 9.034 | Valid MLM Loss: 8.328 | Valid NSP Loss: 0.706                | MLM ACC :  0.015 | NSP ACC :  0.490\n"
     ]
    },
    {
     "name": "stderr",
     "output_type": "stream",
     "text": [
      "train: 100%|██████████| 123/123 [00:22<00:00,  5.50it/s]\n"
     ]
    },
    {
     "name": "stdout",
     "output_type": "stream",
     "text": [
      "\tTrain Total Loss: 8.795 | Train MLM Loss: 8.087 | Train NSP Loss: 0.708            | MLM ACC :  0.015 | NSP ACC :  0.497 | Learning Rate : 0.081\n"
     ]
    },
    {
     "name": "stderr",
     "output_type": "stream",
     "text": [
      "valid: 100%|██████████| 13/13 [00:01<00:00, 10.23it/s]\n"
     ]
    },
    {
     "name": "stdout",
     "output_type": "stream",
     "text": [
      "\\Valid Total Loss: 8.065 | Valid MLM Loss: 7.354 | Valid NSP Loss: 0.712                | MLM ACC :  0.017 | NSP ACC :  0.531\n"
     ]
    },
    {
     "name": "stderr",
     "output_type": "stream",
     "text": [
      "train: 100%|██████████| 123/123 [00:22<00:00,  5.38it/s]\n"
     ]
    },
    {
     "name": "stdout",
     "output_type": "stream",
     "text": [
      "\tTrain Total Loss: 7.958 | Train MLM Loss: 7.256 | Train NSP Loss: 0.702            | MLM ACC :  0.016 | NSP ACC :  0.500 | Learning Rate : 0.076\n"
     ]
    },
    {
     "name": "stderr",
     "output_type": "stream",
     "text": [
      "valid: 100%|██████████| 13/13 [00:01<00:00,  8.82it/s]\n"
     ]
    },
    {
     "name": "stdout",
     "output_type": "stream",
     "text": [
      "\\Valid Total Loss: 7.617 | Valid MLM Loss: 6.892 | Valid NSP Loss: 0.725                | MLM ACC :  0.017 | NSP ACC :  0.451\n"
     ]
    },
    {
     "name": "stderr",
     "output_type": "stream",
     "text": [
      "train: 100%|██████████| 123/123 [00:21<00:00,  5.59it/s]\n"
     ]
    },
    {
     "name": "stdout",
     "output_type": "stream",
     "text": [
      "\tTrain Total Loss: 7.559 | Train MLM Loss: 6.859 | Train NSP Loss: 0.701            | MLM ACC :  0.017 | NSP ACC :  0.507 | Learning Rate : 0.071\n"
     ]
    },
    {
     "name": "stderr",
     "output_type": "stream",
     "text": [
      "valid: 100%|██████████| 13/13 [00:01<00:00, 10.34it/s]\n"
     ]
    },
    {
     "name": "stdout",
     "output_type": "stream",
     "text": [
      "\\Valid Total Loss: 7.376 | Valid MLM Loss: 6.679 | Valid NSP Loss: 0.697                | MLM ACC :  0.016 | NSP ACC :  0.485\n"
     ]
    },
    {
     "name": "stderr",
     "output_type": "stream",
     "text": [
      "train: 100%|██████████| 123/123 [00:22<00:00,  5.49it/s]\n"
     ]
    },
    {
     "name": "stdout",
     "output_type": "stream",
     "text": [
      "\tTrain Total Loss: 7.344 | Train MLM Loss: 6.647 | Train NSP Loss: 0.697            | MLM ACC :  0.017 | NSP ACC :  0.512 | Learning Rate : 0.066\n"
     ]
    },
    {
     "name": "stderr",
     "output_type": "stream",
     "text": [
      "valid: 100%|██████████| 13/13 [00:01<00:00,  8.55it/s]\n"
     ]
    },
    {
     "name": "stdout",
     "output_type": "stream",
     "text": [
      "\\Valid Total Loss: 7.202 | Valid MLM Loss: 6.508 | Valid NSP Loss: 0.694                | MLM ACC :  0.018 | NSP ACC :  0.508\n"
     ]
    },
    {
     "name": "stderr",
     "output_type": "stream",
     "text": [
      "train:  73%|███████▎  | 90/123 [00:16<00:05,  5.84it/s]"
     ]
    }
   ],
   "source": [
    "p.run()"
   ]
  }
 ],
 "metadata": {
  "kernelspec": {
   "display_name": "Python 3",
   "language": "python",
   "name": "python3"
  },
  "language_info": {
   "codemirror_mode": {
    "name": "ipython",
    "version": 3
   },
   "file_extension": ".py",
   "mimetype": "text/x-python",
   "name": "python",
   "nbconvert_exporter": "python",
   "pygments_lexer": "ipython3",
   "version": "3.8.5"
  }
 },
 "nbformat": 4,
 "nbformat_minor": 4
}
