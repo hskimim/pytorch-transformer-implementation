{
 "cells": [
  {
   "cell_type": "code",
   "execution_count": 1,
   "metadata": {
    "ExecuteTime": {
     "end_time": "2022-02-18T20:11:28.360087Z",
     "start_time": "2022-02-18T20:11:28.354298Z"
    }
   },
   "outputs": [],
   "source": [
    "import sys\n",
    "sys.path.append(\"..\")"
   ]
  },
  {
   "cell_type": "code",
   "execution_count": 2,
   "metadata": {
    "ExecuteTime": {
     "end_time": "2022-02-18T20:11:29.255279Z",
     "start_time": "2022-02-18T20:11:28.367763Z"
    }
   },
   "outputs": [],
   "source": [
    "from tqdm import tqdm\n",
    "\n",
    "import torch\n",
    "import torch.optim as optim\n",
    "import torch.nn as nn\n",
    "\n",
    "from vision_transformer.dataset import iterator\n",
    "from torch.utils.data import DataLoader\n",
    "from vision_transformer.layers import classifier"
   ]
  },
  {
   "cell_type": "code",
   "execution_count": 3,
   "metadata": {
    "ExecuteTime": {
     "end_time": "2022-02-18T20:11:29.729670Z",
     "start_time": "2022-02-18T20:11:29.258073Z"
    }
   },
   "outputs": [],
   "source": [
    "train_iterator = iterator.ImageNetIterator(is_train=True)\n",
    "valid_iterator = iterator.ImageNetIterator(is_train=False)\n",
    "\n",
    "train_loader = DataLoader(train_iterator, batch_size=64*2, shuffle=True, num_workers=10)\n",
    "valid_loader = DataLoader(valid_iterator, batch_size=64*2, shuffle=False, num_workers=10)"
   ]
  },
  {
   "cell_type": "code",
   "execution_count": 4,
   "metadata": {
    "ExecuteTime": {
     "end_time": "2022-02-18T20:11:29.811429Z",
     "start_time": "2022-02-18T20:11:29.733115Z"
    }
   },
   "outputs": [],
   "source": [
    "height = 256\n",
    "width = 256\n",
    "channel = 3\n",
    "patch = 16\n",
    "d_model = 256\n",
    "d_ff = d_model * 4\n",
    "n_head = 8\n",
    "dropout_p = 0.1\n",
    "n_enc_layer = 3\n",
    "output_dim = len(train_iterator.label_dict)\n",
    "device = 'cuda' if torch.cuda.is_available() else 'cpu'"
   ]
  },
  {
   "cell_type": "code",
   "execution_count": 5,
   "metadata": {
    "ExecuteTime": {
     "end_time": "2022-02-18T20:11:33.877959Z",
     "start_time": "2022-02-18T20:11:29.815624Z"
    }
   },
   "outputs": [],
   "source": [
    "model = nn.DataParallel(classifier.ViT(\n",
    "    height,\n",
    "    width,\n",
    "    channel,\n",
    "    patch,\n",
    "    d_model,\n",
    "    d_ff,\n",
    "    n_head,\n",
    "    dropout_p,\n",
    "    n_enc_layer,\n",
    "    output_dim,)).to(device)"
   ]
  },
  {
   "cell_type": "code",
   "execution_count": 6,
   "metadata": {
    "ExecuteTime": {
     "end_time": "2022-02-18T20:11:33.890594Z",
     "start_time": "2022-02-18T20:11:33.882904Z"
    }
   },
   "outputs": [],
   "source": [
    "optimizer = optim.Adam(model.parameters())\n",
    "criterion = nn.CrossEntropyLoss()"
   ]
  },
  {
   "cell_type": "code",
   "execution_count": 7,
   "metadata": {
    "ExecuteTime": {
     "end_time": "2022-02-18T20:11:33.915108Z",
     "start_time": "2022-02-18T20:11:33.895200Z"
    }
   },
   "outputs": [],
   "source": [
    "def train() : \n",
    "    model.train()\n",
    "    losses = []\n",
    "    accuracies = []\n",
    "\n",
    "    for x,y in tqdm(train_loader, desc='train') : \n",
    "        pred = model(x.to(device))\n",
    "\n",
    "        optimizer.zero_grad()\n",
    "        loss = criterion(pred, y.to(device))\n",
    "        loss.backward()\n",
    "        optimizer.step()\n",
    "\n",
    "        correct = (torch.argmax(pred, dim=1) == y.to(device)).sum()\n",
    "        acc = correct.item() / y.shape[0]\n",
    "\n",
    "        accuracies.append(acc)\n",
    "        losses.append(loss.item())\n",
    "\n",
    "    agg_acc = sum(accuracies) / len(accuracies)\n",
    "    agg_loss = sum(losses) / len(losses)\n",
    "    return agg_acc, agg_loss\n",
    "\n",
    "def evalulate() : \n",
    "    model.eval()\n",
    "    losses = []\n",
    "    accuracies = []\n",
    "\n",
    "    for x,y in tqdm(valid_loader, desc='valid') : \n",
    "        pred = model(x.to(device))\n",
    "\n",
    "        loss = criterion(pred, y.to(device))\n",
    "        correct = (torch.argmax(pred, dim=1) == y.to(device)).sum()\n",
    "        acc = correct.item() / y.shape[0]\n",
    "\n",
    "        accuracies.append(acc)\n",
    "        losses.append(loss.item())\n",
    "\n",
    "    agg_acc = sum(accuracies) / len(accuracies)\n",
    "    agg_loss = sum(losses) / len(losses)\n",
    "    return agg_acc, agg_loss"
   ]
  },
  {
   "cell_type": "code",
   "execution_count": null,
   "metadata": {
    "ExecuteTime": {
     "start_time": "2022-02-18T20:20:17.886Z"
    },
    "scrolled": true
   },
   "outputs": [
    {
     "name": "stderr",
     "output_type": "stream",
     "text": [
      "train: 100%|██████████| 600/600 [01:58<00:00,  5.07it/s]\n",
      "valid: 100%|██████████| 258/258 [00:30<00:00,  8.44it/s]\n"
     ]
    },
    {
     "name": "stdout",
     "output_type": "stream",
     "text": [
      "\n",
      "                === 1th Epoch ===\n",
      "    \n",
      "        Train Loss : 3.984 | Train Acc : 0.114\n",
      "        Valid Loss : 3.615 | Valid Acc : 0.167\n",
      "        \n",
      "        ============================================\n",
      "        ============================================\n",
      "    \n"
     ]
    },
    {
     "name": "stderr",
     "output_type": "stream",
     "text": [
      "train: 100%|██████████| 600/600 [01:57<00:00,  5.12it/s]\n",
      "valid: 100%|██████████| 258/258 [00:30<00:00,  8.42it/s]\n"
     ]
    },
    {
     "name": "stdout",
     "output_type": "stream",
     "text": [
      "\n",
      "                === 2th Epoch ===\n",
      "    \n",
      "        Train Loss : 3.443 | Train Acc : 0.194\n",
      "        Valid Loss : 3.36 | Valid Acc : 0.212\n",
      "        \n",
      "        ============================================\n",
      "        ============================================\n",
      "    \n"
     ]
    },
    {
     "name": "stderr",
     "output_type": "stream",
     "text": [
      "train: 100%|██████████| 600/600 [01:56<00:00,  5.14it/s]\n",
      "valid: 100%|██████████| 258/258 [00:30<00:00,  8.42it/s]\n"
     ]
    },
    {
     "name": "stdout",
     "output_type": "stream",
     "text": [
      "\n",
      "                === 3th Epoch ===\n",
      "    \n",
      "        Train Loss : 3.269 | Train Acc : 0.224\n",
      "        Valid Loss : 3.256 | Valid Acc : 0.23\n",
      "        \n",
      "        ============================================\n",
      "        ============================================\n",
      "    \n"
     ]
    },
    {
     "name": "stderr",
     "output_type": "stream",
     "text": [
      "train: 100%|██████████| 600/600 [01:57<00:00,  5.12it/s]\n",
      "valid: 100%|██████████| 258/258 [00:30<00:00,  8.49it/s]\n"
     ]
    },
    {
     "name": "stdout",
     "output_type": "stream",
     "text": [
      "\n",
      "                === 4th Epoch ===\n",
      "    \n",
      "        Train Loss : 3.151 | Train Acc : 0.246\n",
      "        Valid Loss : 3.214 | Valid Acc : 0.24\n",
      "        \n",
      "        ============================================\n",
      "        ============================================\n",
      "    \n"
     ]
    },
    {
     "name": "stderr",
     "output_type": "stream",
     "text": [
      "train: 100%|██████████| 600/600 [01:57<00:00,  5.11it/s]\n",
      "valid: 100%|██████████| 258/258 [00:30<00:00,  8.48it/s]\n"
     ]
    },
    {
     "name": "stdout",
     "output_type": "stream",
     "text": [
      "\n",
      "                === 5th Epoch ===\n",
      "    \n",
      "        Train Loss : 3.056 | Train Acc : 0.263\n",
      "        Valid Loss : 3.147 | Valid Acc : 0.257\n",
      "        \n",
      "        ============================================\n",
      "        ============================================\n",
      "    \n"
     ]
    },
    {
     "name": "stderr",
     "output_type": "stream",
     "text": [
      "train: 100%|██████████| 600/600 [01:57<00:00,  5.11it/s]\n",
      "valid: 100%|██████████| 258/258 [00:30<00:00,  8.44it/s]\n"
     ]
    },
    {
     "name": "stdout",
     "output_type": "stream",
     "text": [
      "\n",
      "                === 6th Epoch ===\n",
      "    \n",
      "        Train Loss : 2.97 | Train Acc : 0.279\n",
      "        Valid Loss : 3.103 | Valid Acc : 0.269\n",
      "        \n",
      "        ============================================\n",
      "        ============================================\n",
      "    \n"
     ]
    },
    {
     "name": "stderr",
     "output_type": "stream",
     "text": [
      "train: 100%|██████████| 600/600 [01:57<00:00,  5.12it/s]\n",
      "valid: 100%|██████████| 258/258 [00:30<00:00,  8.48it/s]\n"
     ]
    },
    {
     "name": "stdout",
     "output_type": "stream",
     "text": [
      "\n",
      "                === 7th Epoch ===\n",
      "    \n",
      "        Train Loss : 2.886 | Train Acc : 0.294\n",
      "        Valid Loss : 3.12 | Valid Acc : 0.261\n",
      "        \n",
      "        ============================================\n",
      "        ============================================\n",
      "    \n"
     ]
    },
    {
     "name": "stderr",
     "output_type": "stream",
     "text": [
      "train: 100%|██████████| 600/600 [01:56<00:00,  5.14it/s]\n",
      "valid: 100%|██████████| 258/258 [00:30<00:00,  8.43it/s]\n"
     ]
    },
    {
     "name": "stdout",
     "output_type": "stream",
     "text": [
      "\n",
      "                === 8th Epoch ===\n",
      "    \n",
      "        Train Loss : 2.822 | Train Acc : 0.305\n",
      "        Valid Loss : 3.111 | Valid Acc : 0.271\n",
      "        \n",
      "        ============================================\n",
      "        ============================================\n",
      "    \n"
     ]
    },
    {
     "name": "stderr",
     "output_type": "stream",
     "text": [
      "train: 100%|██████████| 600/600 [01:57<00:00,  5.12it/s]\n",
      "valid: 100%|██████████| 258/258 [00:30<00:00,  8.42it/s]\n"
     ]
    },
    {
     "name": "stdout",
     "output_type": "stream",
     "text": [
      "\n",
      "                === 9th Epoch ===\n",
      "    \n",
      "        Train Loss : 2.742 | Train Acc : 0.319\n",
      "        Valid Loss : 3.11 | Valid Acc : 0.276\n",
      "        \n",
      "        ============================================\n",
      "        ============================================\n",
      "    \n"
     ]
    },
    {
     "name": "stderr",
     "output_type": "stream",
     "text": [
      "train: 100%|██████████| 600/600 [01:56<00:00,  5.13it/s]\n",
      "valid: 100%|██████████| 258/258 [00:30<00:00,  8.48it/s]\n"
     ]
    },
    {
     "name": "stdout",
     "output_type": "stream",
     "text": [
      "\n",
      "                === 10th Epoch ===\n",
      "    \n",
      "        Train Loss : 2.67 | Train Acc : 0.331\n",
      "        Valid Loss : 3.105 | Valid Acc : 0.278\n",
      "        \n",
      "        ============================================\n",
      "        ============================================\n",
      "    \n"
     ]
    },
    {
     "name": "stderr",
     "output_type": "stream",
     "text": [
      "train: 100%|██████████| 600/600 [01:56<00:00,  5.13it/s]\n",
      "valid: 100%|██████████| 258/258 [00:30<00:00,  8.52it/s]\n"
     ]
    },
    {
     "name": "stdout",
     "output_type": "stream",
     "text": [
      "\n",
      "                === 11th Epoch ===\n",
      "    \n",
      "        Train Loss : 2.598 | Train Acc : 0.349\n",
      "        Valid Loss : 3.103 | Valid Acc : 0.277\n",
      "        \n",
      "        ============================================\n",
      "        ============================================\n",
      "    \n"
     ]
    },
    {
     "name": "stderr",
     "output_type": "stream",
     "text": [
      "train: 100%|██████████| 600/600 [01:57<00:00,  5.13it/s]\n",
      "valid: 100%|██████████| 258/258 [00:30<00:00,  8.51it/s]\n"
     ]
    },
    {
     "name": "stdout",
     "output_type": "stream",
     "text": [
      "\n",
      "                === 12th Epoch ===\n",
      "    \n",
      "        Train Loss : 2.526 | Train Acc : 0.36\n",
      "        Valid Loss : 3.181 | Valid Acc : 0.277\n",
      "        \n",
      "        ============================================\n",
      "        ============================================\n",
      "    \n"
     ]
    },
    {
     "name": "stderr",
     "output_type": "stream",
     "text": [
      "train: 100%|██████████| 600/600 [01:56<00:00,  5.14it/s]\n",
      "valid: 100%|██████████| 258/258 [00:30<00:00,  8.49it/s]\n"
     ]
    },
    {
     "name": "stdout",
     "output_type": "stream",
     "text": [
      "\n",
      "                === 13th Epoch ===\n",
      "    \n",
      "        Train Loss : 2.445 | Train Acc : 0.377\n",
      "        Valid Loss : 3.188 | Valid Acc : 0.278\n",
      "        \n",
      "        ============================================\n",
      "        ============================================\n",
      "    \n"
     ]
    },
    {
     "name": "stderr",
     "output_type": "stream",
     "text": [
      "train: 100%|██████████| 600/600 [01:57<00:00,  5.11it/s]\n",
      "valid: 100%|██████████| 258/258 [00:29<00:00,  8.62it/s]\n"
     ]
    },
    {
     "name": "stdout",
     "output_type": "stream",
     "text": [
      "\n",
      "                === 14th Epoch ===\n",
      "    \n",
      "        Train Loss : 2.368 | Train Acc : 0.39\n",
      "        Valid Loss : 3.205 | Valid Acc : 0.276\n",
      "        \n",
      "        ============================================\n",
      "        ============================================\n",
      "    \n"
     ]
    },
    {
     "name": "stderr",
     "output_type": "stream",
     "text": [
      "train: 100%|██████████| 600/600 [01:56<00:00,  5.15it/s]\n",
      "valid:  16%|█▌        | 40/258 [00:05<00:23,  9.08it/s]"
     ]
    }
   ],
   "source": [
    "epoches = 20\n",
    "\n",
    "for proc in range(epoches) : \n",
    "    t_acc, t_loss = train()\n",
    "    v_acc, v_loss = evalulate()\n",
    "    print(f\"\"\"\n",
    "                === {proc+1}th Epoch ===\n",
    "    \n",
    "        Train Loss : {round(t_loss, 3)} | Train Acc : {round(t_acc, 3)}\n",
    "        Valid Loss : {round(v_loss, 3)} | Valid Acc : {round(v_acc, 3)}\n",
    "        \n",
    "        ============================================\n",
    "        ============================================\n",
    "    \"\"\")"
   ]
  }
 ],
 "metadata": {
  "kernelspec": {
   "display_name": "Python 3",
   "language": "python",
   "name": "python3"
  },
  "language_info": {
   "codemirror_mode": {
    "name": "ipython",
    "version": 3
   },
   "file_extension": ".py",
   "mimetype": "text/x-python",
   "name": "python",
   "nbconvert_exporter": "python",
   "pygments_lexer": "ipython3",
   "version": "3.8.5"
  }
 },
 "nbformat": 4,
 "nbformat_minor": 4
}
