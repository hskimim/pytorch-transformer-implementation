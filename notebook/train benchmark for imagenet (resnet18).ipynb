{
 "cells": [
  {
   "cell_type": "code",
   "execution_count": 1,
   "metadata": {
    "ExecuteTime": {
     "end_time": "2022-03-06T11:50:33.654351Z",
     "start_time": "2022-03-06T11:50:33.650343Z"
    }
   },
   "outputs": [],
   "source": [
    "import sys\n",
    "sys.path.append(\"..\")"
   ]
  },
  {
   "cell_type": "code",
   "execution_count": 2,
   "metadata": {
    "ExecuteTime": {
     "end_time": "2022-03-06T11:50:35.172327Z",
     "start_time": "2022-03-06T11:50:33.657429Z"
    }
   },
   "outputs": [],
   "source": [
    "from tqdm import tqdm\n",
    "\n",
    "import torch\n",
    "import torch.optim as optim\n",
    "import torch.nn as nn\n",
    "\n",
    "from vision_transformer.dataset import iterator\n",
    "from torch.utils.data import DataLoader\n",
    "from vision_transformer.layers import classifier"
   ]
  },
  {
   "cell_type": "code",
   "execution_count": 3,
   "metadata": {
    "ExecuteTime": {
     "end_time": "2022-03-06T11:50:35.798270Z",
     "start_time": "2022-03-06T11:50:35.178630Z"
    }
   },
   "outputs": [],
   "source": [
    "train_iterator = iterator.ImageNetIterator(is_train=True)\n",
    "valid_iterator = iterator.ImageNetIterator(is_train=False)\n",
    "\n",
    "train_loader = DataLoader(train_iterator, batch_size=32*2, shuffle=True, num_workers=10)\n",
    "valid_loader = DataLoader(valid_iterator, batch_size=32*2, shuffle=False, num_workers=10)"
   ]
  },
  {
   "cell_type": "markdown",
   "metadata": {},
   "source": [
    "___"
   ]
  },
  {
   "cell_type": "code",
   "execution_count": 4,
   "metadata": {
    "ExecuteTime": {
     "end_time": "2022-03-06T11:50:35.839869Z",
     "start_time": "2022-03-06T11:50:35.803585Z"
    }
   },
   "outputs": [],
   "source": [
    "device = torch.device(\"cuda\" if torch.cuda.is_available() else \"cpu\")"
   ]
  },
  {
   "cell_type": "code",
   "execution_count": 5,
   "metadata": {
    "ExecuteTime": {
     "end_time": "2022-03-06T11:50:40.590682Z",
     "start_time": "2022-03-06T11:50:35.843794Z"
    }
   },
   "outputs": [],
   "source": [
    "import torchvision.models as models\n",
    "model = models.resnet18(True)\n",
    "model.fc = nn.Linear(512, len(train_iterator.label_dict)) # add new lasy fc layer\n",
    "model = nn.DataParallel(model).to(device) # paralleize"
   ]
  },
  {
   "cell_type": "code",
   "execution_count": 6,
   "metadata": {
    "ExecuteTime": {
     "end_time": "2022-03-06T11:50:40.598445Z",
     "start_time": "2022-03-06T11:50:40.593997Z"
    }
   },
   "outputs": [],
   "source": [
    "optimizer = optim.Adam(model.parameters())\n",
    "criterion = nn.CrossEntropyLoss()"
   ]
  },
  {
   "cell_type": "code",
   "execution_count": 7,
   "metadata": {
    "ExecuteTime": {
     "end_time": "2022-03-06T11:50:40.609553Z",
     "start_time": "2022-03-06T11:50:40.601119Z"
    }
   },
   "outputs": [],
   "source": [
    "def train() : \n",
    "    model.train()\n",
    "    losses = []\n",
    "    accuracies = []\n",
    "\n",
    "    for x,y in tqdm(train_loader, desc='train') : \n",
    "        pred = model(x.to(device))\n",
    "\n",
    "        optimizer.zero_grad()\n",
    "        loss = criterion(pred, y.to(device))\n",
    "        loss.backward()\n",
    "        optimizer.step()\n",
    "\n",
    "        correct = (torch.argmax(pred, dim=1) == y.to(device)).sum()\n",
    "        acc = correct.item() / y.shape[0]\n",
    "\n",
    "        accuracies.append(acc)\n",
    "        losses.append(loss.item())\n",
    "\n",
    "    agg_acc = sum(accuracies) / len(accuracies)\n",
    "    agg_loss = sum(losses) / len(losses)\n",
    "    return agg_acc, agg_loss\n",
    "\n",
    "def evalulate() : \n",
    "    model.eval()\n",
    "    losses = []\n",
    "    accuracies = []\n",
    "\n",
    "    for x,y in tqdm(valid_loader, desc='valid') : \n",
    "        pred = model(x.to(device))\n",
    "\n",
    "        loss = criterion(pred, y.to(device))\n",
    "        correct = (torch.argmax(pred, dim=1) == y.to(device)).sum()\n",
    "        acc = correct.item() / y.shape[0]\n",
    "\n",
    "        accuracies.append(acc)\n",
    "        losses.append(loss.item())\n",
    "\n",
    "    agg_acc = sum(accuracies) / len(accuracies)\n",
    "    agg_loss = sum(losses) / len(losses)\n",
    "    return agg_acc, agg_loss"
   ]
  },
  {
   "cell_type": "code",
   "execution_count": 8,
   "metadata": {
    "ExecuteTime": {
     "end_time": "2022-03-06T12:58:25.382120Z",
     "start_time": "2022-03-06T11:50:40.611611Z"
    },
    "scrolled": true
   },
   "outputs": [
    {
     "name": "stderr",
     "output_type": "stream",
     "text": [
      "train: 100%|██████████| 1200/1200 [02:49<00:00,  7.08it/s]\n",
      "valid: 100%|██████████| 516/516 [00:36<00:00, 14.12it/s]\n"
     ]
    },
    {
     "name": "stdout",
     "output_type": "stream",
     "text": [
      "\n",
      "                === 1th Epoch ===\n",
      "    \n",
      "        Train Loss : 1.83 | Train Acc : 0.515\n",
      "        Valid Loss : 1.6 | Valid Acc : 0.574\n",
      "        \n",
      "        ============================================\n",
      "        ============================================\n",
      "    \n"
     ]
    },
    {
     "name": "stderr",
     "output_type": "stream",
     "text": [
      "train: 100%|██████████| 1200/1200 [02:47<00:00,  7.18it/s]\n",
      "valid: 100%|██████████| 516/516 [00:36<00:00, 14.02it/s]\n"
     ]
    },
    {
     "name": "stdout",
     "output_type": "stream",
     "text": [
      "\n",
      "                === 2th Epoch ===\n",
      "    \n",
      "        Train Loss : 1.266 | Train Acc : 0.649\n",
      "        Valid Loss : 1.413 | Valid Acc : 0.617\n",
      "        \n",
      "        ============================================\n",
      "        ============================================\n",
      "    \n"
     ]
    },
    {
     "name": "stderr",
     "output_type": "stream",
     "text": [
      "train: 100%|██████████| 1200/1200 [02:47<00:00,  7.18it/s]\n",
      "valid: 100%|██████████| 516/516 [00:36<00:00, 14.04it/s]\n"
     ]
    },
    {
     "name": "stdout",
     "output_type": "stream",
     "text": [
      "\n",
      "                === 3th Epoch ===\n",
      "    \n",
      "        Train Loss : 1.063 | Train Acc : 0.697\n",
      "        Valid Loss : 1.241 | Valid Acc : 0.664\n",
      "        \n",
      "        ============================================\n",
      "        ============================================\n",
      "    \n"
     ]
    },
    {
     "name": "stderr",
     "output_type": "stream",
     "text": [
      "train: 100%|██████████| 1200/1200 [02:47<00:00,  7.16it/s]\n",
      "valid: 100%|██████████| 516/516 [00:37<00:00, 13.94it/s]\n"
     ]
    },
    {
     "name": "stdout",
     "output_type": "stream",
     "text": [
      "\n",
      "                === 4th Epoch ===\n",
      "    \n",
      "        Train Loss : 0.919 | Train Acc : 0.733\n",
      "        Valid Loss : 1.184 | Valid Acc : 0.687\n",
      "        \n",
      "        ============================================\n",
      "        ============================================\n",
      "    \n"
     ]
    },
    {
     "name": "stderr",
     "output_type": "stream",
     "text": [
      "train: 100%|██████████| 1200/1200 [02:47<00:00,  7.18it/s]\n",
      "valid: 100%|██████████| 516/516 [00:35<00:00, 14.69it/s]\n"
     ]
    },
    {
     "name": "stdout",
     "output_type": "stream",
     "text": [
      "\n",
      "                === 5th Epoch ===\n",
      "    \n",
      "        Train Loss : 0.799 | Train Acc : 0.766\n",
      "        Valid Loss : 1.173 | Valid Acc : 0.687\n",
      "        \n",
      "        ============================================\n",
      "        ============================================\n",
      "    \n"
     ]
    },
    {
     "name": "stderr",
     "output_type": "stream",
     "text": [
      "train: 100%|██████████| 1200/1200 [02:47<00:00,  7.18it/s]\n",
      "valid: 100%|██████████| 516/516 [00:36<00:00, 14.05it/s]\n"
     ]
    },
    {
     "name": "stdout",
     "output_type": "stream",
     "text": [
      "\n",
      "                === 6th Epoch ===\n",
      "    \n",
      "        Train Loss : 0.709 | Train Acc : 0.788\n",
      "        Valid Loss : 1.134 | Valid Acc : 0.7\n",
      "        \n",
      "        ============================================\n",
      "        ============================================\n",
      "    \n"
     ]
    },
    {
     "name": "stderr",
     "output_type": "stream",
     "text": [
      "train: 100%|██████████| 1200/1200 [02:47<00:00,  7.16it/s]\n",
      "valid: 100%|██████████| 516/516 [00:36<00:00, 14.00it/s]\n"
     ]
    },
    {
     "name": "stdout",
     "output_type": "stream",
     "text": [
      "\n",
      "                === 7th Epoch ===\n",
      "    \n",
      "        Train Loss : 0.619 | Train Acc : 0.811\n",
      "        Valid Loss : 1.238 | Valid Acc : 0.69\n",
      "        \n",
      "        ============================================\n",
      "        ============================================\n",
      "    \n"
     ]
    },
    {
     "name": "stderr",
     "output_type": "stream",
     "text": [
      "train: 100%|██████████| 1200/1200 [02:47<00:00,  7.16it/s]\n",
      "valid: 100%|██████████| 516/516 [00:36<00:00, 14.01it/s]\n"
     ]
    },
    {
     "name": "stdout",
     "output_type": "stream",
     "text": [
      "\n",
      "                === 8th Epoch ===\n",
      "    \n",
      "        Train Loss : 0.549 | Train Acc : 0.83\n",
      "        Valid Loss : 1.199 | Valid Acc : 0.706\n",
      "        \n",
      "        ============================================\n",
      "        ============================================\n",
      "    \n"
     ]
    },
    {
     "name": "stderr",
     "output_type": "stream",
     "text": [
      "train: 100%|██████████| 1200/1200 [02:47<00:00,  7.16it/s]\n",
      "valid: 100%|██████████| 516/516 [00:35<00:00, 14.60it/s]\n"
     ]
    },
    {
     "name": "stdout",
     "output_type": "stream",
     "text": [
      "\n",
      "                === 9th Epoch ===\n",
      "    \n",
      "        Train Loss : 0.489 | Train Acc : 0.848\n",
      "        Valid Loss : 1.176 | Valid Acc : 0.71\n",
      "        \n",
      "        ============================================\n",
      "        ============================================\n",
      "    \n"
     ]
    },
    {
     "name": "stderr",
     "output_type": "stream",
     "text": [
      "train: 100%|██████████| 1200/1200 [02:47<00:00,  7.18it/s]\n",
      "valid: 100%|██████████| 516/516 [00:36<00:00, 13.97it/s]\n"
     ]
    },
    {
     "name": "stdout",
     "output_type": "stream",
     "text": [
      "\n",
      "                === 10th Epoch ===\n",
      "    \n",
      "        Train Loss : 0.44 | Train Acc : 0.864\n",
      "        Valid Loss : 1.155 | Valid Acc : 0.719\n",
      "        \n",
      "        ============================================\n",
      "        ============================================\n",
      "    \n"
     ]
    },
    {
     "name": "stderr",
     "output_type": "stream",
     "text": [
      "train: 100%|██████████| 1200/1200 [02:46<00:00,  7.19it/s]\n",
      "valid: 100%|██████████| 516/516 [00:36<00:00, 14.05it/s]\n"
     ]
    },
    {
     "name": "stdout",
     "output_type": "stream",
     "text": [
      "\n",
      "                === 11th Epoch ===\n",
      "    \n",
      "        Train Loss : 0.403 | Train Acc : 0.873\n",
      "        Valid Loss : 1.265 | Valid Acc : 0.714\n",
      "        \n",
      "        ============================================\n",
      "        ============================================\n",
      "    \n"
     ]
    },
    {
     "name": "stderr",
     "output_type": "stream",
     "text": [
      "train: 100%|██████████| 1200/1200 [02:47<00:00,  7.16it/s]\n",
      "valid: 100%|██████████| 516/516 [00:36<00:00, 14.21it/s]\n"
     ]
    },
    {
     "name": "stdout",
     "output_type": "stream",
     "text": [
      "\n",
      "                === 12th Epoch ===\n",
      "    \n",
      "        Train Loss : 0.369 | Train Acc : 0.883\n",
      "        Valid Loss : 1.312 | Valid Acc : 0.694\n",
      "        \n",
      "        ============================================\n",
      "        ============================================\n",
      "    \n"
     ]
    },
    {
     "name": "stderr",
     "output_type": "stream",
     "text": [
      "train: 100%|██████████| 1200/1200 [02:46<00:00,  7.20it/s]\n",
      "valid: 100%|██████████| 516/516 [00:36<00:00, 13.97it/s]\n"
     ]
    },
    {
     "name": "stdout",
     "output_type": "stream",
     "text": [
      "\n",
      "                === 13th Epoch ===\n",
      "    \n",
      "        Train Loss : 0.337 | Train Acc : 0.894\n",
      "        Valid Loss : 1.329 | Valid Acc : 0.695\n",
      "        \n",
      "        ============================================\n",
      "        ============================================\n",
      "    \n"
     ]
    },
    {
     "name": "stderr",
     "output_type": "stream",
     "text": [
      "train: 100%|██████████| 1200/1200 [02:46<00:00,  7.21it/s]\n",
      "valid: 100%|██████████| 516/516 [00:36<00:00, 14.01it/s]\n"
     ]
    },
    {
     "name": "stdout",
     "output_type": "stream",
     "text": [
      "\n",
      "                === 14th Epoch ===\n",
      "    \n",
      "        Train Loss : 0.318 | Train Acc : 0.9\n",
      "        Valid Loss : 1.353 | Valid Acc : 0.7\n",
      "        \n",
      "        ============================================\n",
      "        ============================================\n",
      "    \n"
     ]
    },
    {
     "name": "stderr",
     "output_type": "stream",
     "text": [
      "train: 100%|██████████| 1200/1200 [02:47<00:00,  7.16it/s]\n",
      "valid: 100%|██████████| 516/516 [00:37<00:00, 13.93it/s]\n"
     ]
    },
    {
     "name": "stdout",
     "output_type": "stream",
     "text": [
      "\n",
      "                === 15th Epoch ===\n",
      "    \n",
      "        Train Loss : 0.288 | Train Acc : 0.909\n",
      "        Valid Loss : 1.568 | Valid Acc : 0.661\n",
      "        \n",
      "        ============================================\n",
      "        ============================================\n",
      "    \n"
     ]
    },
    {
     "name": "stderr",
     "output_type": "stream",
     "text": [
      "train: 100%|██████████| 1200/1200 [02:45<00:00,  7.25it/s]\n",
      "valid: 100%|██████████| 516/516 [00:37<00:00, 13.92it/s]\n"
     ]
    },
    {
     "name": "stdout",
     "output_type": "stream",
     "text": [
      "\n",
      "                === 16th Epoch ===\n",
      "    \n",
      "        Train Loss : 0.277 | Train Acc : 0.912\n",
      "        Valid Loss : 1.33 | Valid Acc : 0.715\n",
      "        \n",
      "        ============================================\n",
      "        ============================================\n",
      "    \n"
     ]
    },
    {
     "name": "stderr",
     "output_type": "stream",
     "text": [
      "train: 100%|██████████| 1200/1200 [02:41<00:00,  7.42it/s]\n",
      "valid: 100%|██████████| 516/516 [00:34<00:00, 15.06it/s]\n"
     ]
    },
    {
     "name": "stdout",
     "output_type": "stream",
     "text": [
      "\n",
      "                === 17th Epoch ===\n",
      "    \n",
      "        Train Loss : 0.258 | Train Acc : 0.919\n",
      "        Valid Loss : 1.401 | Valid Acc : 0.711\n",
      "        \n",
      "        ============================================\n",
      "        ============================================\n",
      "    \n"
     ]
    },
    {
     "name": "stderr",
     "output_type": "stream",
     "text": [
      "train: 100%|██████████| 1200/1200 [02:41<00:00,  7.45it/s]\n",
      "valid: 100%|██████████| 516/516 [00:36<00:00, 14.11it/s]\n"
     ]
    },
    {
     "name": "stdout",
     "output_type": "stream",
     "text": [
      "\n",
      "                === 18th Epoch ===\n",
      "    \n",
      "        Train Loss : 0.244 | Train Acc : 0.924\n",
      "        Valid Loss : 1.471 | Valid Acc : 0.694\n",
      "        \n",
      "        ============================================\n",
      "        ============================================\n",
      "    \n"
     ]
    },
    {
     "name": "stderr",
     "output_type": "stream",
     "text": [
      "train: 100%|██████████| 1200/1200 [02:47<00:00,  7.17it/s]\n",
      "valid: 100%|██████████| 516/516 [00:37<00:00, 13.92it/s]\n"
     ]
    },
    {
     "name": "stdout",
     "output_type": "stream",
     "text": [
      "\n",
      "                === 19th Epoch ===\n",
      "    \n",
      "        Train Loss : 0.236 | Train Acc : 0.925\n",
      "        Valid Loss : 1.398 | Valid Acc : 0.712\n",
      "        \n",
      "        ============================================\n",
      "        ============================================\n",
      "    \n"
     ]
    },
    {
     "name": "stderr",
     "output_type": "stream",
     "text": [
      "train: 100%|██████████| 1200/1200 [02:47<00:00,  7.16it/s]\n",
      "valid: 100%|██████████| 516/516 [00:36<00:00, 14.13it/s]"
     ]
    },
    {
     "name": "stdout",
     "output_type": "stream",
     "text": [
      "\n",
      "                === 20th Epoch ===\n",
      "    \n",
      "        Train Loss : 0.214 | Train Acc : 0.932\n",
      "        Valid Loss : 1.465 | Valid Acc : 0.71\n",
      "        \n",
      "        ============================================\n",
      "        ============================================\n",
      "    \n"
     ]
    },
    {
     "name": "stderr",
     "output_type": "stream",
     "text": [
      "\n"
     ]
    }
   ],
   "source": [
    "epoches = 20\n",
    "\n",
    "for proc in range(epoches) : \n",
    "    t_acc, t_loss = train()\n",
    "    v_acc, v_loss = evalulate()\n",
    "    print(f\"\"\"\n",
    "                === {proc+1}th Epoch ===\n",
    "    \n",
    "        Train Loss : {round(t_loss, 3)} | Train Acc : {round(t_acc, 3)}\n",
    "        Valid Loss : {round(v_loss, 3)} | Valid Acc : {round(v_acc, 3)}\n",
    "        \n",
    "        ============================================\n",
    "        ============================================\n",
    "    \"\"\")"
   ]
  },
  {
   "cell_type": "code",
   "execution_count": 10,
   "metadata": {
    "ExecuteTime": {
     "end_time": "2022-03-06T13:24:04.488584Z",
     "start_time": "2022-03-06T13:24:04.302106Z"
    }
   },
   "outputs": [],
   "source": [
    "torch.save(model.state_dict(), 'resnet18_imagenet_pretrained.pt')"
   ]
  }
 ],
 "metadata": {
  "kernelspec": {
   "display_name": "Python 3",
   "language": "python",
   "name": "python3"
  },
  "language_info": {
   "codemirror_mode": {
    "name": "ipython",
    "version": 3
   },
   "file_extension": ".py",
   "mimetype": "text/x-python",
   "name": "python",
   "nbconvert_exporter": "python",
   "pygments_lexer": "ipython3",
   "version": "3.8.5"
  }
 },
 "nbformat": 4,
 "nbformat_minor": 4
}
