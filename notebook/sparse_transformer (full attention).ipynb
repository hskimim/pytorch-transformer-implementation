{
 "cells": [
  {
   "cell_type": "code",
   "execution_count": 1,
   "metadata": {
    "ExecuteTime": {
     "end_time": "2022-02-10T14:17:07.305955Z",
     "start_time": "2022-02-10T14:17:03.369060Z"
    }
   },
   "outputs": [],
   "source": [
    "import torch\n",
    "import torch.nn as nn\n",
    "import torch.optim as optim\n",
    "from torch import Tensor\n",
    "from torch.utils.data import IterableDataset\n",
    "\n",
    "import torchtext\n",
    "from torchtext.datasets import WikiText2\n",
    "from torchtext.data.utils import get_tokenizer\n",
    "from torchtext.vocab import build_vocab_from_iterator\n",
    "\n",
    "import matplotlib.pyplot as plt\n",
    "import spacy\n",
    "import numpy as np\n",
    "\n",
    "from copy import deepcopy\n",
    "import random\n",
    "import math\n",
    "import time\n",
    "from tqdm.notebook import tqdm\n",
    "\n",
    "from typing import Tuple"
   ]
  },
  {
   "cell_type": "code",
   "execution_count": 2,
   "metadata": {
    "ExecuteTime": {
     "end_time": "2022-02-10T14:17:07.322267Z",
     "start_time": "2022-02-10T14:17:07.310972Z"
    }
   },
   "outputs": [],
   "source": [
    "SEED = 1234\n",
    "\n",
    "random.seed(SEED)\n",
    "np.random.seed(SEED)\n",
    "torch.manual_seed(SEED)\n",
    "torch.cuda.manual_seed(SEED)\n",
    "torch.backends.cudnn.deterministic = True"
   ]
  },
  {
   "cell_type": "code",
   "execution_count": 3,
   "metadata": {
    "ExecuteTime": {
     "end_time": "2022-02-10T14:17:12.636249Z",
     "start_time": "2022-02-10T14:17:07.326730Z"
    },
    "code_folding": [],
    "scrolled": true
   },
   "outputs": [],
   "source": [
    "# copied from https://pytorch.org/tutorials/beginner/transformer_tutorial.html\n",
    "\n",
    "train_iter = WikiText2(split='train')\n",
    "tokenizer = get_tokenizer('basic_english')\n",
    "vocab = build_vocab_from_iterator(map(tokenizer, train_iter), specials=['<unk>'])\n",
    "vocab.set_default_index(vocab['<unk>'])\n",
    "\n",
    "def data_process(raw_text_iter: IterableDataset) -> Tensor:\n",
    "    \"\"\"Converts raw text into a flat Tensor.\"\"\"\n",
    "    data = [torch.tensor(vocab(tokenizer(item)), dtype=torch.long) for item in raw_text_iter]\n",
    "    return torch.cat(tuple(filter(lambda t: t.numel() > 0, data)))\n",
    "\n",
    "# train_iter was \"consumed\" by the process of building the vocab,\n",
    "# so we have to create it again\n",
    "train_iter, val_iter, test_iter = WikiText2()\n",
    "train_data = data_process(train_iter)\n",
    "val_data = data_process(val_iter)\n",
    "test_data = data_process(test_iter)\n",
    "\n",
    "device = torch.device('cuda' if torch.cuda.is_available() else 'cpu')"
   ]
  },
  {
   "cell_type": "code",
   "execution_count": 4,
   "metadata": {
    "ExecuteTime": {
     "end_time": "2022-02-10T14:17:17.003875Z",
     "start_time": "2022-02-10T14:17:12.642215Z"
    }
   },
   "outputs": [],
   "source": [
    "def batchify(data: Tensor, bsz: int) -> Tensor:\n",
    "    \"\"\"Divides the data into bsz separate sequences, removing extra elements\n",
    "    that wouldn't cleanly fit.\n",
    "\n",
    "    Args:\n",
    "        data: Tensor, shape [N]\n",
    "        bsz: int, batch size\n",
    "\n",
    "    Returns:\n",
    "        Tensor of shape [N // bsz, bsz]\n",
    "    \"\"\"\n",
    "    seq_len = data.size(0) // bsz\n",
    "    data = data[:seq_len * bsz]\n",
    "    data = data.view(bsz, seq_len).t().contiguous()\n",
    "    return data.to(device)\n",
    "\n",
    "batch_size = 64\n",
    "eval_batch_size = 10\n",
    "train_data = batchify(train_data, batch_size)  # shape [seq_len, batch_size]\n",
    "val_data = batchify(val_data, eval_batch_size)\n",
    "test_data = batchify(test_data, eval_batch_size)"
   ]
  },
  {
   "cell_type": "code",
   "execution_count": 5,
   "metadata": {
    "ExecuteTime": {
     "end_time": "2022-02-10T14:17:17.017519Z",
     "start_time": "2022-02-10T14:17:17.007948Z"
    }
   },
   "outputs": [],
   "source": [
    "bptt = 150\n",
    "\n",
    "def get_batch(source: Tensor, i: int) -> Tuple[Tensor, Tensor]:\n",
    "    \"\"\"\n",
    "    Args:\n",
    "        source: Tensor, shape [full_seq_len, batch_size]\n",
    "        i: int\n",
    "\n",
    "    Returns:\n",
    "        tuple (data, target), where data has shape [seq_len, batch_size] and\n",
    "        target has shape [seq_len * batch_size]\n",
    "    \"\"\"\n",
    "    seq_len = min(bptt, len(source) - 1 - i)\n",
    "    data = source[i:i+seq_len]\n",
    "    target = source[i+1:i+1+seq_len].T.reshape(-1)\n",
    "    return data, target"
   ]
  },
  {
   "cell_type": "markdown",
   "metadata": {},
   "source": [
    "___"
   ]
  },
  {
   "cell_type": "code",
   "execution_count": 6,
   "metadata": {
    "ExecuteTime": {
     "end_time": "2022-02-10T14:17:18.827167Z",
     "start_time": "2022-02-10T14:17:18.808384Z"
    }
   },
   "outputs": [],
   "source": [
    "import sys\n",
    "sys.path.append(\"../\")\n",
    "\n",
    "from sparse_transformer.layers import encoder"
   ]
  },
  {
   "cell_type": "code",
   "execution_count": 7,
   "metadata": {
    "ExecuteTime": {
     "end_time": "2022-02-10T14:17:21.023225Z",
     "start_time": "2022-02-10T14:17:21.008113Z"
    }
   },
   "outputs": [],
   "source": [
    "vocab_size = len(vocab.get_itos())\n",
    "max_length = bptt\n",
    "d_model = 256\n",
    "d_ff = 256 * 2\n",
    "n_head = 8\n",
    "dropout_p = 0.1\n",
    "l = 50\n",
    "c = 1\n",
    "n_enc_layer = 3"
   ]
  },
  {
   "cell_type": "code",
   "execution_count": 8,
   "metadata": {
    "ExecuteTime": {
     "end_time": "2022-02-10T14:17:22.281759Z",
     "start_time": "2022-02-10T14:17:21.869755Z"
    },
    "code_folding": [],
    "scrolled": false
   },
   "outputs": [
    {
     "name": "stdout",
     "output_type": "stream",
     "text": [
      "The # of Un-Masked Token : 90600\n",
      "Allocated Memory Usage 85969408\n"
     ]
    }
   ],
   "source": [
    "attn_typ = 'full'\n",
    "\n",
    "full_attn_model = encoder.Encoder(vocab_size,\n",
    "                max_length,\n",
    "                 d_model,\n",
    "                 d_ff,\n",
    "                 n_head,\n",
    "                 dropout_p,\n",
    "                 attn_typ,\n",
    "                 l,\n",
    "                 c,\n",
    "                 n_enc_layer).to(device)\n",
    "\n",
    "print(\"The # of Un-Masked Token :\", (full_attn_model.fa.generate_multi_head_attn_mask(bptt) == 0).sum().item())\n",
    "print(\"Allocated Memory Usage\", torch.cuda.memory_allocated('cuda:0'))"
   ]
  },
  {
   "cell_type": "markdown",
   "metadata": {},
   "source": [
    "___"
   ]
  },
  {
   "cell_type": "markdown",
   "metadata": {},
   "source": [
    "# Train"
   ]
  },
  {
   "cell_type": "code",
   "execution_count": 10,
   "metadata": {
    "ExecuteTime": {
     "end_time": "2022-02-10T14:03:39.620872Z",
     "start_time": "2022-02-10T14:03:39.613488Z"
    }
   },
   "outputs": [],
   "source": [
    "# torch.autograd.set_detect_anomaly(True)\n",
    "criterion = nn.CrossEntropyLoss()\n",
    "optimizer = optim.AdamW(full_attn_model.parameters(), lr=2.5e-4, weight_decay=1e-3)\n",
    "scheduler = torch.optim.lr_scheduler.CosineAnnealingLR(optimizer, T_max=100, eta_min=0.001)"
   ]
  },
  {
   "cell_type": "code",
   "execution_count": 11,
   "metadata": {
    "ExecuteTime": {
     "end_time": "2022-02-10T14:03:39.642948Z",
     "start_time": "2022-02-10T14:03:39.623480Z"
    }
   },
   "outputs": [],
   "source": [
    "def train(model, data, optimizer, criterion, clip):\n",
    "    \n",
    "    model.train()\n",
    "    \n",
    "    epoch_loss = 0\n",
    "    cnt = 0\n",
    "    \n",
    "    for i in tqdm(range(0, data.shape[0] - 1, bptt), desc='train') :\n",
    "        src, trg = get_batch(train_data, i)\n",
    "        src = src.T # [batch_size, sequence_length]\n",
    "        \n",
    "        optimizer.zero_grad()        \n",
    "        output = model(src) # [batch_size, sequence_length, hidden_dim]\n",
    "        output = output.view(-1, vocab_size)\n",
    "        \n",
    "        loss = criterion(output, trg)\n",
    "        loss.backward()        \n",
    "        \n",
    "        ma = torch.cuda.memory_allocated('cuda:0')\n",
    "        \n",
    "        torch.nn.utils.clip_grad_norm_(model.parameters(), clip)        \n",
    "        optimizer.step()        \n",
    "        \n",
    "        epoch_loss += loss.item()\n",
    "        cnt += 1\n",
    "    return epoch_loss / cnt\n",
    "\n",
    "def evaluate(model, data, criterion):\n",
    "    \n",
    "    model.eval()\n",
    "    \n",
    "    epoch_loss = 0\n",
    "    cnt = 0\n",
    "    \n",
    "    with torch.no_grad() : \n",
    "        for i in tqdm(range(0, data.shape[0] - 1, bptt), desc='valid') :\n",
    "            src, trg = get_batch(data, i)\n",
    "            src = src.T # [batch_size, sequence_length]\n",
    "\n",
    "            output = model(src)\n",
    "            output = output.view(-1, vocab_size)\n",
    "            loss = criterion(output.view(-1, output.shape[-1]), trg)\n",
    "            epoch_loss += loss.item()\n",
    "            cnt += 1\n",
    "\n",
    "    return epoch_loss / cnt\n",
    "\n",
    "def epoch_time(start_time, end_time):\n",
    "    elapsed_time = end_time - start_time\n",
    "    elapsed_mins = int(elapsed_time / 60)\n",
    "    elapsed_secs = int(elapsed_time - (elapsed_mins * 60))\n",
    "    return elapsed_mins, elapsed_secs"
   ]
  },
  {
   "cell_type": "code",
   "execution_count": 13,
   "metadata": {
    "ExecuteTime": {
     "end_time": "2022-02-10T14:04:41.606332Z",
     "start_time": "2022-02-10T14:03:54.329564Z"
    }
   },
   "outputs": [
    {
     "data": {
      "application/vnd.jupyter.widget-view+json": {
       "model_id": "2fc88e48787745a1bd61661403a5a746",
       "version_major": 2,
       "version_minor": 0
      },
      "text/plain": [
       "train:   0%|          | 0/178 [00:00<?, ?it/s]"
      ]
     },
     "metadata": {},
     "output_type": "display_data"
    },
    {
     "name": "stdout",
     "output_type": "stream",
     "text": [
      "Allocated Memory Usage 282717184\n"
     ]
    }
   ],
   "source": [
    "N_EPOCHS = 20\n",
    "CLIP = 1\n",
    "\n",
    "best_valid_loss = float('inf')\n",
    "\n",
    "for epoch in range(N_EPOCHS):\n",
    "    \n",
    "    start_time = time.time()\n",
    "    \n",
    "    train_loss = train(full_attn_model, train_data, optimizer, criterion, CLIP)\n",
    "    print(\"Allocated Memory Usage\", torch.cuda.memory_allocated('cuda:0'))\n",
    "    break\n",
    "    valid_loss = evaluate(full_attn_model, val_data, criterion)\n",
    "    \n",
    "    end_time = time.time()\n",
    "    \n",
    "    epoch_mins, epoch_secs = epoch_time(start_time, end_time)\n",
    "    \n",
    "    if valid_loss < best_valid_loss:\n",
    "        best_valid_loss = valid_loss\n",
    "        \n",
    "    scheduler.step()\n",
    "    \n",
    "    print(f'Epoch: {epoch+1:02} | Time: {epoch_mins}m {epoch_secs}s')\n",
    "    print(f'\\tTrain Loss: {train_loss:.3f} | Train PPL: {math.exp(train_loss):7.3f}')\n",
    "    print(f'\\t Val. Loss: {valid_loss:.3f} |  Val. PPL: {math.exp(valid_loss):7.3f}')"
   ]
  }
 ],
 "metadata": {
  "kernelspec": {
   "display_name": "Python 3",
   "language": "python",
   "name": "python3"
  },
  "language_info": {
   "codemirror_mode": {
    "name": "ipython",
    "version": 3
   },
   "file_extension": ".py",
   "mimetype": "text/x-python",
   "name": "python",
   "nbconvert_exporter": "python",
   "pygments_lexer": "ipython3",
   "version": "3.8.5"
  }
 },
 "nbformat": 4,
 "nbformat_minor": 4
}
