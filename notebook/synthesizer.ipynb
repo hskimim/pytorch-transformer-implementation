{
 "cells": [
  {
   "cell_type": "code",
   "execution_count": 1,
   "metadata": {
    "ExecuteTime": {
     "end_time": "2022-02-18T16:33:54.382347Z",
     "start_time": "2022-02-18T16:33:54.377218Z"
    }
   },
   "outputs": [],
   "source": [
    "import sys\n",
    "sys.path.append(\"../\")"
   ]
  },
  {
   "cell_type": "code",
   "execution_count": 2,
   "metadata": {
    "ExecuteTime": {
     "end_time": "2022-02-18T16:33:55.170199Z",
     "start_time": "2022-02-18T16:33:54.387040Z"
    }
   },
   "outputs": [
    {
     "name": "stdout",
     "output_type": "stream",
     "text": [
      "('liu', '888', 'bin', 'liu', '888', 'bin')\n",
      "{'one': 1, 'two': 2}\n",
      "dict_values([1, 2])\n"
     ]
    }
   ],
   "source": [
    "import torch\n",
    "import torch.nn as nn\n",
    "\n",
    "from bert.dataset import iterator\n",
    "from bert.trainer import pretrain"
   ]
  },
  {
   "cell_type": "code",
   "execution_count": 3,
   "metadata": {
    "ExecuteTime": {
     "end_time": "2022-02-18T16:33:55.186422Z",
     "start_time": "2022-02-18T16:33:55.174408Z"
    }
   },
   "outputs": [],
   "source": [
    "from synthesizer.layers.synthesizer_emb import Synthesizer\n",
    "from bert.layer import bert_fc"
   ]
  },
  {
   "cell_type": "markdown",
   "metadata": {},
   "source": [
    "____"
   ]
  },
  {
   "cell_type": "code",
   "execution_count": 4,
   "metadata": {
    "ExecuteTime": {
     "end_time": "2022-02-18T16:33:55.249868Z",
     "start_time": "2022-02-18T16:33:55.189490Z"
    }
   },
   "outputs": [],
   "source": [
    "p = pretrain.Pretrain()"
   ]
  },
  {
   "cell_type": "code",
   "execution_count": 5,
   "metadata": {
    "ExecuteTime": {
     "end_time": "2022-02-18T16:33:55.469075Z",
     "start_time": "2022-02-18T16:33:55.253713Z"
    }
   },
   "outputs": [],
   "source": [
    "p.load_data(train_fname = '../data/wikitext-2-raw/prep_wiki.train.raw',\n",
    "           valid_fname='../data/wikitext-2-raw/prep_wiki.valid.raw',\n",
    "           tokenizer_fname='../data/m.model')"
   ]
  },
  {
   "cell_type": "code",
   "execution_count": 6,
   "metadata": {
    "ExecuteTime": {
     "end_time": "2022-02-18T16:33:55.477754Z",
     "start_time": "2022-02-18T16:33:55.471575Z"
    }
   },
   "outputs": [],
   "source": [
    "d_model = 128\n",
    "d_ff = 256\n",
    "n_head = 8\n",
    "vocab_size = p._train_dataset.vocab.vocab_size\n",
    "pad_id = p._train_dataset.vocab.pad_id\n",
    "dropout_p = 0.1\n",
    "n_enc_layer = 5\n",
    "seq_length = p._train_dataset.seq_len\n",
    "device = 'cuda' if torch.cuda.is_available() else 'cpu'\n",
    "factorized_shape = [16, 16]\n",
    "k = 8\n",
    "mixed_weight = [1, 0]"
   ]
  },
  {
   "cell_type": "code",
   "execution_count": 7,
   "metadata": {
    "ExecuteTime": {
     "end_time": "2022-02-18T16:34:00.038634Z",
     "start_time": "2022-02-18T16:33:55.482114Z"
    },
    "scrolled": true
   },
   "outputs": [],
   "source": [
    "synthesizer = Synthesizer(vocab_size,\n",
    "                         seq_length,\n",
    "                         pad_id,\n",
    "                         d_model,\n",
    "                         d_ff,\n",
    "                         factorized_shape,\n",
    "                         k,\n",
    "                         mixed_weight,\n",
    "                         n_head,\n",
    "                         dropout_p,\n",
    "                         n_enc_layer).to(device)"
   ]
  },
  {
   "cell_type": "code",
   "execution_count": 8,
   "metadata": {
    "ExecuteTime": {
     "end_time": "2022-02-18T16:34:00.059267Z",
     "start_time": "2022-02-18T16:34:00.042370Z"
    }
   },
   "outputs": [],
   "source": [
    "model = bert_fc.BertFC(synthesizer, d_model, vocab_size)"
   ]
  },
  {
   "cell_type": "code",
   "execution_count": 9,
   "metadata": {
    "ExecuteTime": {
     "end_time": "2022-02-18T16:34:00.070534Z",
     "start_time": "2022-02-18T16:34:00.062314Z"
    }
   },
   "outputs": [],
   "source": [
    "p.load_model(model)"
   ]
  },
  {
   "cell_type": "code",
   "execution_count": 10,
   "metadata": {
    "ExecuteTime": {
     "end_time": "2022-02-18T16:46:06.084020Z",
     "start_time": "2022-02-18T16:34:00.072209Z"
    },
    "scrolled": true
   },
   "outputs": [
    {
     "name": "stderr",
     "output_type": "stream",
     "text": [
      "train: 100%|██████████| 123/123 [00:35<00:00,  3.46it/s]\n"
     ]
    },
    {
     "name": "stdout",
     "output_type": "stream",
     "text": [
      "\tTrain Total Loss: 14.498 | Train MLM Loss: 13.291 | Train NSP Loss: 1.207            | MLM ACC :  0.008 | NSP ACC :  0.493 | Learning Rate : 0.096\n"
     ]
    },
    {
     "name": "stderr",
     "output_type": "stream",
     "text": [
      "valid: 100%|██████████| 13/13 [00:01<00:00,  7.48it/s]\n"
     ]
    },
    {
     "name": "stdout",
     "output_type": "stream",
     "text": [
      "\\Valid Total Loss: 8.675 | Valid MLM Loss: 7.973 | Valid NSP Loss: 0.702                | MLM ACC :  0.014 | NSP ACC :  0.474\n"
     ]
    },
    {
     "name": "stderr",
     "output_type": "stream",
     "text": [
      "train: 100%|██████████| 123/123 [00:34<00:00,  3.55it/s]\n"
     ]
    },
    {
     "name": "stdout",
     "output_type": "stream",
     "text": [
      "\tTrain Total Loss: 8.428 | Train MLM Loss: 7.726 | Train NSP Loss: 0.702            | MLM ACC :  0.015 | NSP ACC :  0.504 | Learning Rate : 0.091\n"
     ]
    },
    {
     "name": "stderr",
     "output_type": "stream",
     "text": [
      "valid: 100%|██████████| 13/13 [00:01<00:00,  7.13it/s]\n"
     ]
    },
    {
     "name": "stdout",
     "output_type": "stream",
     "text": [
      "\\Valid Total Loss: 7.877 | Valid MLM Loss: 7.184 | Valid NSP Loss: 0.694                | MLM ACC :  0.016 | NSP ACC :  0.510\n"
     ]
    },
    {
     "name": "stderr",
     "output_type": "stream",
     "text": [
      "train: 100%|██████████| 123/123 [00:34<00:00,  3.53it/s]\n"
     ]
    },
    {
     "name": "stdout",
     "output_type": "stream",
     "text": [
      "\tTrain Total Loss: 7.745 | Train MLM Loss: 7.047 | Train NSP Loss: 0.698            | MLM ACC :  0.015 | NSP ACC :  0.492 | Learning Rate : 0.086\n"
     ]
    },
    {
     "name": "stderr",
     "output_type": "stream",
     "text": [
      "valid: 100%|██████████| 13/13 [00:01<00:00,  7.05it/s]\n"
     ]
    },
    {
     "name": "stdout",
     "output_type": "stream",
     "text": [
      "\\Valid Total Loss: 7.496 | Valid MLM Loss: 6.787 | Valid NSP Loss: 0.709                | MLM ACC :  0.016 | NSP ACC :  0.490\n"
     ]
    },
    {
     "name": "stderr",
     "output_type": "stream",
     "text": [
      "train: 100%|██████████| 123/123 [00:34<00:00,  3.54it/s]\n"
     ]
    },
    {
     "name": "stdout",
     "output_type": "stream",
     "text": [
      "\tTrain Total Loss: 7.501 | Train MLM Loss: 6.802 | Train NSP Loss: 0.699            | MLM ACC :  0.016 | NSP ACC :  0.497 | Learning Rate : 0.081\n"
     ]
    },
    {
     "name": "stderr",
     "output_type": "stream",
     "text": [
      "valid: 100%|██████████| 13/13 [00:01<00:00,  7.00it/s]\n"
     ]
    },
    {
     "name": "stdout",
     "output_type": "stream",
     "text": [
      "\\Valid Total Loss: 7.322 | Valid MLM Loss: 6.622 | Valid NSP Loss: 0.700                | MLM ACC :  0.017 | NSP ACC :  0.531\n"
     ]
    },
    {
     "name": "stderr",
     "output_type": "stream",
     "text": [
      "train: 100%|██████████| 123/123 [00:34<00:00,  3.53it/s]\n"
     ]
    },
    {
     "name": "stdout",
     "output_type": "stream",
     "text": [
      "\tTrain Total Loss: 7.334 | Train MLM Loss: 6.635 | Train NSP Loss: 0.699            | MLM ACC :  0.016 | NSP ACC :  0.504 | Learning Rate : 0.076\n"
     ]
    },
    {
     "name": "stderr",
     "output_type": "stream",
     "text": [
      "valid: 100%|██████████| 13/13 [00:01<00:00,  7.25it/s]\n"
     ]
    },
    {
     "name": "stdout",
     "output_type": "stream",
     "text": [
      "\\Valid Total Loss: 7.264 | Valid MLM Loss: 6.562 | Valid NSP Loss: 0.701                | MLM ACC :  0.017 | NSP ACC :  0.451\n"
     ]
    },
    {
     "name": "stderr",
     "output_type": "stream",
     "text": [
      "train: 100%|██████████| 123/123 [00:34<00:00,  3.53it/s]\n"
     ]
    },
    {
     "name": "stdout",
     "output_type": "stream",
     "text": [
      "\tTrain Total Loss: 7.262 | Train MLM Loss: 6.566 | Train NSP Loss: 0.697            | MLM ACC :  0.016 | NSP ACC :  0.507 | Learning Rate : 0.071\n"
     ]
    },
    {
     "name": "stderr",
     "output_type": "stream",
     "text": [
      "valid: 100%|██████████| 13/13 [00:01<00:00,  6.69it/s]\n"
     ]
    },
    {
     "name": "stdout",
     "output_type": "stream",
     "text": [
      "\\Valid Total Loss: 7.146 | Valid MLM Loss: 6.451 | Valid NSP Loss: 0.695                | MLM ACC :  0.017 | NSP ACC :  0.485\n"
     ]
    },
    {
     "name": "stderr",
     "output_type": "stream",
     "text": [
      "train: 100%|██████████| 123/123 [00:35<00:00,  3.50it/s]\n"
     ]
    },
    {
     "name": "stdout",
     "output_type": "stream",
     "text": [
      "\tTrain Total Loss: 7.219 | Train MLM Loss: 6.523 | Train NSP Loss: 0.696            | MLM ACC :  0.017 | NSP ACC :  0.509 | Learning Rate : 0.066\n"
     ]
    },
    {
     "name": "stderr",
     "output_type": "stream",
     "text": [
      "valid: 100%|██████████| 13/13 [00:01<00:00,  6.89it/s]\n"
     ]
    },
    {
     "name": "stdout",
     "output_type": "stream",
     "text": [
      "\\Valid Total Loss: 7.209 | Valid MLM Loss: 6.514 | Valid NSP Loss: 0.695                | MLM ACC :  0.017 | NSP ACC :  0.505\n"
     ]
    },
    {
     "name": "stderr",
     "output_type": "stream",
     "text": [
      "train: 100%|██████████| 123/123 [00:34<00:00,  3.55it/s]\n"
     ]
    },
    {
     "name": "stdout",
     "output_type": "stream",
     "text": [
      "\tTrain Total Loss: 7.181 | Train MLM Loss: 6.482 | Train NSP Loss: 0.699            | MLM ACC :  0.017 | NSP ACC :  0.487 | Learning Rate : 0.061\n"
     ]
    },
    {
     "name": "stderr",
     "output_type": "stream",
     "text": [
      "valid: 100%|██████████| 13/13 [00:01<00:00,  7.26it/s]\n"
     ]
    },
    {
     "name": "stdout",
     "output_type": "stream",
     "text": [
      "\\Valid Total Loss: 7.132 | Valid MLM Loss: 6.435 | Valid NSP Loss: 0.698                | MLM ACC :  0.018 | NSP ACC :  0.492\n"
     ]
    },
    {
     "name": "stderr",
     "output_type": "stream",
     "text": [
      "train: 100%|██████████| 123/123 [00:34<00:00,  3.52it/s]\n"
     ]
    },
    {
     "name": "stdout",
     "output_type": "stream",
     "text": [
      "\tTrain Total Loss: 7.151 | Train MLM Loss: 6.455 | Train NSP Loss: 0.696            | MLM ACC :  0.017 | NSP ACC :  0.508 | Learning Rate : 0.056\n"
     ]
    },
    {
     "name": "stderr",
     "output_type": "stream",
     "text": [
      "valid: 100%|██████████| 13/13 [00:01<00:00,  6.99it/s]\n"
     ]
    },
    {
     "name": "stdout",
     "output_type": "stream",
     "text": [
      "\\Valid Total Loss: 7.127 | Valid MLM Loss: 6.432 | Valid NSP Loss: 0.696                | MLM ACC :  0.018 | NSP ACC :  0.469\n"
     ]
    },
    {
     "name": "stderr",
     "output_type": "stream",
     "text": [
      "train: 100%|██████████| 123/123 [00:34<00:00,  3.56it/s]\n"
     ]
    },
    {
     "name": "stdout",
     "output_type": "stream",
     "text": [
      "\tTrain Total Loss: 7.104 | Train MLM Loss: 6.407 | Train NSP Loss: 0.697            | MLM ACC :  0.017 | NSP ACC :  0.498 | Learning Rate : 0.050\n"
     ]
    },
    {
     "name": "stderr",
     "output_type": "stream",
     "text": [
      "valid: 100%|██████████| 13/13 [00:01<00:00,  6.59it/s]\n"
     ]
    },
    {
     "name": "stdout",
     "output_type": "stream",
     "text": [
      "\\Valid Total Loss: 7.170 | Valid MLM Loss: 6.443 | Valid NSP Loss: 0.727                | MLM ACC :  0.017 | NSP ACC :  0.485\n"
     ]
    },
    {
     "name": "stderr",
     "output_type": "stream",
     "text": [
      "train: 100%|██████████| 123/123 [00:34<00:00,  3.61it/s]\n"
     ]
    },
    {
     "name": "stdout",
     "output_type": "stream",
     "text": [
      "\tTrain Total Loss: 7.092 | Train MLM Loss: 6.395 | Train NSP Loss: 0.697            | MLM ACC :  0.017 | NSP ACC :  0.502 | Learning Rate : 0.045\n"
     ]
    },
    {
     "name": "stderr",
     "output_type": "stream",
     "text": [
      "valid: 100%|██████████| 13/13 [00:01<00:00,  7.20it/s]\n"
     ]
    },
    {
     "name": "stdout",
     "output_type": "stream",
     "text": [
      "\\Valid Total Loss: 7.047 | Valid MLM Loss: 6.353 | Valid NSP Loss: 0.693                | MLM ACC :  0.018 | NSP ACC :  0.503\n"
     ]
    },
    {
     "name": "stderr",
     "output_type": "stream",
     "text": [
      "train: 100%|██████████| 123/123 [00:34<00:00,  3.61it/s]\n"
     ]
    },
    {
     "name": "stdout",
     "output_type": "stream",
     "text": [
      "\tTrain Total Loss: 7.060 | Train MLM Loss: 6.364 | Train NSP Loss: 0.696            | MLM ACC :  0.017 | NSP ACC :  0.509 | Learning Rate : 0.040\n"
     ]
    },
    {
     "name": "stderr",
     "output_type": "stream",
     "text": [
      "valid: 100%|██████████| 13/13 [00:01<00:00,  7.18it/s]\n"
     ]
    },
    {
     "name": "stdout",
     "output_type": "stream",
     "text": [
      "\\Valid Total Loss: 7.093 | Valid MLM Loss: 6.393 | Valid NSP Loss: 0.700                | MLM ACC :  0.018 | NSP ACC :  0.487\n"
     ]
    },
    {
     "name": "stderr",
     "output_type": "stream",
     "text": [
      "train: 100%|██████████| 123/123 [00:33<00:00,  3.63it/s]\n"
     ]
    },
    {
     "name": "stdout",
     "output_type": "stream",
     "text": [
      "\tTrain Total Loss: 7.024 | Train MLM Loss: 6.329 | Train NSP Loss: 0.695            | MLM ACC :  0.018 | NSP ACC :  0.507 | Learning Rate : 0.035\n"
     ]
    },
    {
     "name": "stderr",
     "output_type": "stream",
     "text": [
      "valid: 100%|██████████| 13/13 [00:01<00:00,  7.29it/s]\n"
     ]
    },
    {
     "name": "stdout",
     "output_type": "stream",
     "text": [
      "\\Valid Total Loss: 7.063 | Valid MLM Loss: 6.367 | Valid NSP Loss: 0.697                | MLM ACC :  0.017 | NSP ACC :  0.492\n"
     ]
    },
    {
     "name": "stderr",
     "output_type": "stream",
     "text": [
      "train: 100%|██████████| 123/123 [00:34<00:00,  3.61it/s]\n"
     ]
    },
    {
     "name": "stdout",
     "output_type": "stream",
     "text": [
      "\tTrain Total Loss: 6.976 | Train MLM Loss: 6.281 | Train NSP Loss: 0.696            | MLM ACC :  0.018 | NSP ACC :  0.507 | Learning Rate : 0.030\n"
     ]
    },
    {
     "name": "stderr",
     "output_type": "stream",
     "text": [
      "valid: 100%|██████████| 13/13 [00:01<00:00,  7.34it/s]\n"
     ]
    },
    {
     "name": "stdout",
     "output_type": "stream",
     "text": [
      "\\Valid Total Loss: 6.956 | Valid MLM Loss: 6.263 | Valid NSP Loss: 0.693                | MLM ACC :  0.019 | NSP ACC :  0.479\n"
     ]
    },
    {
     "name": "stderr",
     "output_type": "stream",
     "text": [
      "train: 100%|██████████| 123/123 [00:33<00:00,  3.62it/s]\n"
     ]
    },
    {
     "name": "stdout",
     "output_type": "stream",
     "text": [
      "\tTrain Total Loss: 6.952 | Train MLM Loss: 6.256 | Train NSP Loss: 0.696            | MLM ACC :  0.018 | NSP ACC :  0.500 | Learning Rate : 0.025\n"
     ]
    },
    {
     "name": "stderr",
     "output_type": "stream",
     "text": [
      "valid: 100%|██████████| 13/13 [00:01<00:00,  7.24it/s]\n"
     ]
    },
    {
     "name": "stdout",
     "output_type": "stream",
     "text": [
      "\\Valid Total Loss: 6.953 | Valid MLM Loss: 6.254 | Valid NSP Loss: 0.699                | MLM ACC :  0.018 | NSP ACC :  0.495\n"
     ]
    },
    {
     "name": "stderr",
     "output_type": "stream",
     "text": [
      "train: 100%|██████████| 123/123 [00:34<00:00,  3.59it/s]\n"
     ]
    },
    {
     "name": "stdout",
     "output_type": "stream",
     "text": [
      "\tTrain Total Loss: 6.908 | Train MLM Loss: 6.212 | Train NSP Loss: 0.695            | MLM ACC :  0.019 | NSP ACC :  0.492 | Learning Rate : 0.020\n"
     ]
    },
    {
     "name": "stderr",
     "output_type": "stream",
     "text": [
      "valid: 100%|██████████| 13/13 [00:01<00:00,  7.54it/s]\n"
     ]
    },
    {
     "name": "stdout",
     "output_type": "stream",
     "text": [
      "\\Valid Total Loss: 6.962 | Valid MLM Loss: 6.266 | Valid NSP Loss: 0.695                | MLM ACC :  0.018 | NSP ACC :  0.472\n"
     ]
    },
    {
     "name": "stderr",
     "output_type": "stream",
     "text": [
      "train: 100%|██████████| 123/123 [00:34<00:00,  3.60it/s]\n"
     ]
    },
    {
     "name": "stdout",
     "output_type": "stream",
     "text": [
      "\tTrain Total Loss: 6.873 | Train MLM Loss: 6.179 | Train NSP Loss: 0.694            | MLM ACC :  0.019 | NSP ACC :  0.501 | Learning Rate : 0.015\n"
     ]
    },
    {
     "name": "stderr",
     "output_type": "stream",
     "text": [
      "valid: 100%|██████████| 13/13 [00:01<00:00,  7.32it/s]\n"
     ]
    },
    {
     "name": "stdout",
     "output_type": "stream",
     "text": [
      "\\Valid Total Loss: 6.922 | Valid MLM Loss: 6.226 | Valid NSP Loss: 0.696                | MLM ACC :  0.019 | NSP ACC :  0.479\n"
     ]
    },
    {
     "name": "stderr",
     "output_type": "stream",
     "text": [
      "train: 100%|██████████| 123/123 [00:34<00:00,  3.62it/s]\n"
     ]
    },
    {
     "name": "stdout",
     "output_type": "stream",
     "text": [
      "\tTrain Total Loss: 6.832 | Train MLM Loss: 6.137 | Train NSP Loss: 0.695            | MLM ACC :  0.019 | NSP ACC :  0.500 | Learning Rate : 0.010\n"
     ]
    },
    {
     "name": "stderr",
     "output_type": "stream",
     "text": [
      "valid: 100%|██████████| 13/13 [00:01<00:00,  7.32it/s]\n"
     ]
    },
    {
     "name": "stdout",
     "output_type": "stream",
     "text": [
      "\\Valid Total Loss: 6.921 | Valid MLM Loss: 6.228 | Valid NSP Loss: 0.694                | MLM ACC :  0.020 | NSP ACC :  0.508\n"
     ]
    },
    {
     "name": "stderr",
     "output_type": "stream",
     "text": [
      "train: 100%|██████████| 123/123 [00:34<00:00,  3.62it/s]\n"
     ]
    },
    {
     "name": "stdout",
     "output_type": "stream",
     "text": [
      "\tTrain Total Loss: 6.790 | Train MLM Loss: 6.097 | Train NSP Loss: 0.694            | MLM ACC :  0.020 | NSP ACC :  0.503 | Learning Rate : 0.005\n"
     ]
    },
    {
     "name": "stderr",
     "output_type": "stream",
     "text": [
      "valid: 100%|██████████| 13/13 [00:01<00:00,  7.21it/s]\n"
     ]
    },
    {
     "name": "stdout",
     "output_type": "stream",
     "text": [
      "\\Valid Total Loss: 6.855 | Valid MLM Loss: 6.160 | Valid NSP Loss: 0.696                | MLM ACC :  0.020 | NSP ACC :  0.469\n"
     ]
    },
    {
     "name": "stderr",
     "output_type": "stream",
     "text": [
      "train: 100%|██████████| 123/123 [00:33<00:00,  3.62it/s]\n"
     ]
    },
    {
     "name": "stdout",
     "output_type": "stream",
     "text": [
      "\tTrain Total Loss: 6.750 | Train MLM Loss: 6.056 | Train NSP Loss: 0.694            | MLM ACC :  0.020 | NSP ACC :  0.493 | Learning Rate : -0.000\n"
     ]
    },
    {
     "name": "stderr",
     "output_type": "stream",
     "text": [
      "valid: 100%|██████████| 13/13 [00:01<00:00,  7.23it/s]"
     ]
    },
    {
     "name": "stdout",
     "output_type": "stream",
     "text": [
      "\\Valid Total Loss: 6.854 | Valid MLM Loss: 6.161 | Valid NSP Loss: 0.693                | MLM ACC :  0.019 | NSP ACC :  0.505\n"
     ]
    },
    {
     "name": "stderr",
     "output_type": "stream",
     "text": [
      "\n"
     ]
    }
   ],
   "source": [
    "p.run()"
   ]
  }
 ],
 "metadata": {
  "kernelspec": {
   "display_name": "Python 3",
   "language": "python",
   "name": "python3"
  },
  "language_info": {
   "codemirror_mode": {
    "name": "ipython",
    "version": 3
   },
   "file_extension": ".py",
   "mimetype": "text/x-python",
   "name": "python",
   "nbconvert_exporter": "python",
   "pygments_lexer": "ipython3",
   "version": "3.8.5"
  }
 },
 "nbformat": 4,
 "nbformat_minor": 4
}
