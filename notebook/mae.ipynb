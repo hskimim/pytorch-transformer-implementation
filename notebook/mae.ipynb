{
 "cells": [
  {
   "cell_type": "code",
   "execution_count": 1,
   "metadata": {
    "ExecuteTime": {
     "end_time": "2022-03-06T10:43:40.012922Z",
     "start_time": "2022-03-06T10:43:40.008276Z"
    }
   },
   "outputs": [],
   "source": [
    "import sys\n",
    "sys.path.append(\"..\")"
   ]
  },
  {
   "cell_type": "code",
   "execution_count": 2,
   "metadata": {
    "ExecuteTime": {
     "end_time": "2022-03-06T10:43:41.886441Z",
     "start_time": "2022-03-06T10:43:40.331776Z"
    }
   },
   "outputs": [],
   "source": [
    "from tqdm import tqdm\n",
    "\n",
    "import torch\n",
    "import torch.optim as optim\n",
    "import torch.nn as nn\n",
    "\n",
    "from mae.dataset import iterator\n",
    "from torch.utils.data import DataLoader\n",
    "\n",
    "from mae.layers.mae import MAE"
   ]
  },
  {
   "cell_type": "code",
   "execution_count": 3,
   "metadata": {
    "ExecuteTime": {
     "end_time": "2022-03-06T10:43:42.447647Z",
     "start_time": "2022-03-06T10:43:41.891404Z"
    }
   },
   "outputs": [],
   "source": [
    "train_iterator = iterator.MaskedImageNetIterator(is_train=True)\n",
    "valid_iterator = iterator.MaskedImageNetIterator(is_train=False)\n",
    "\n",
    "train_loader = DataLoader(train_iterator, batch_size=64*2, shuffle=True, num_workers=10)\n",
    "valid_loader = DataLoader(valid_iterator, batch_size=64*2, shuffle=False, num_workers=10)"
   ]
  },
  {
   "cell_type": "code",
   "execution_count": 4,
   "metadata": {
    "ExecuteTime": {
     "end_time": "2022-03-06T10:43:51.311284Z",
     "start_time": "2022-03-06T10:43:51.269193Z"
    }
   },
   "outputs": [],
   "source": [
    "height = 224\n",
    "width = 224\n",
    "channel = 3\n",
    "patch = 16\n",
    "d_model = 128\n",
    "d_ff = d_model * 4\n",
    "ffn_typ = 'glu'\n",
    "act_typ = 'GELU'\n",
    "n_head = 8\n",
    "dropout_p = 0.1\n",
    "n_enc_layer = 3\n",
    "n_dec_layer = 3\n",
    "output_dim = len(train_iterator.label_dict)\n",
    "device = 'cuda' if torch.cuda.is_available() else 'cpu'"
   ]
  },
  {
   "cell_type": "code",
   "execution_count": 5,
   "metadata": {
    "ExecuteTime": {
     "end_time": "2022-03-06T10:43:58.658199Z",
     "start_time": "2022-03-06T10:43:54.184833Z"
    }
   },
   "outputs": [],
   "source": [
    "model = nn.DataParallel(MAE(\n",
    "            height,\n",
    "             width,\n",
    "             channel,\n",
    "             patch,\n",
    "             d_model,\n",
    "             d_ff,\n",
    "             ffn_typ,\n",
    "             act_typ,\n",
    "             n_head,\n",
    "             dropout_p,\n",
    "             n_enc_layer,\n",
    "             n_dec_layer)).to(device)"
   ]
  },
  {
   "cell_type": "code",
   "execution_count": 6,
   "metadata": {
    "ExecuteTime": {
     "end_time": "2022-03-06T10:43:58.668356Z",
     "start_time": "2022-03-06T10:43:58.662279Z"
    }
   },
   "outputs": [],
   "source": [
    "optimizer = optim.Adam(model.parameters())\n",
    "criterion = nn.MSELoss()"
   ]
  },
  {
   "cell_type": "code",
   "execution_count": 7,
   "metadata": {
    "ExecuteTime": {
     "end_time": "2022-03-06T10:43:58.682974Z",
     "start_time": "2022-03-06T10:43:58.673052Z"
    }
   },
   "outputs": [],
   "source": [
    "# torch.autograd.set_detect_anomaly(True) # for debugging\n",
    "\n",
    "def train() : \n",
    "    model.train()\n",
    "    losses = []\n",
    "\n",
    "    for dict_ in tqdm(train_loader, desc='train') : \n",
    "        recostructed = model(dict_['input'].to(device), dict_['unmask_bool'].to(device))\n",
    "\n",
    "        optimizer.zero_grad()\n",
    "        loss = criterion(recostructed, dict_['label'].to(device))\n",
    "        loss.backward()\n",
    "        optimizer.step()\n",
    "\n",
    "        losses.append(loss.item())\n",
    "\n",
    "    agg_loss = sum(losses) / len(losses)\n",
    "    return agg_loss\n",
    "\n",
    "def evalulate() : \n",
    "    model.eval()\n",
    "    losses = []\n",
    "\n",
    "    for dict_ in tqdm(valid_loader, desc='valid') : \n",
    "        recostructed = model(dict_['input'].to(device), dict_['unmask_bool'].to(device))\n",
    "\n",
    "        loss = criterion(recostructed, dict_['label'].to(device))\n",
    "        losses.append(loss.item())\n",
    "\n",
    "    agg_loss = sum(losses) / len(losses)\n",
    "    return agg_loss"
   ]
  },
  {
   "cell_type": "code",
   "execution_count": null,
   "metadata": {
    "ExecuteTime": {
     "start_time": "2022-03-06T10:53:22.191Z"
    },
    "scrolled": true
   },
   "outputs": [
    {
     "name": "stderr",
     "output_type": "stream",
     "text": [
      "train: 100%|██████████| 600/600 [01:44<00:00,  5.76it/s]\n",
      "valid: 100%|██████████| 258/258 [00:40<00:00,  6.43it/s]\n"
     ]
    },
    {
     "name": "stdout",
     "output_type": "stream",
     "text": [
      "\n",
      "                === 1th Epoch ===\n",
      "    \n",
      "        Train Loss : 0.065 | Valid Loss : 0.056\n",
      "        \n",
      "                    ============================================\n",
      "                    ============================================\n",
      "    \n"
     ]
    },
    {
     "name": "stderr",
     "output_type": "stream",
     "text": [
      "train: 100%|██████████| 600/600 [01:39<00:00,  6.03it/s]\n",
      "valid: 100%|██████████| 258/258 [00:40<00:00,  6.43it/s]\n"
     ]
    },
    {
     "name": "stdout",
     "output_type": "stream",
     "text": [
      "\n",
      "                === 2th Epoch ===\n",
      "    \n",
      "        Train Loss : 0.047 | Valid Loss : 0.044\n",
      "        \n",
      "                    ============================================\n",
      "                    ============================================\n",
      "    \n"
     ]
    },
    {
     "name": "stderr",
     "output_type": "stream",
     "text": [
      "train: 100%|██████████| 600/600 [01:38<00:00,  6.08it/s]\n",
      "valid: 100%|██████████| 258/258 [00:40<00:00,  6.39it/s]\n"
     ]
    },
    {
     "name": "stdout",
     "output_type": "stream",
     "text": [
      "\n",
      "                === 3th Epoch ===\n",
      "    \n",
      "        Train Loss : 0.042 | Valid Loss : 0.039\n",
      "        \n",
      "                    ============================================\n",
      "                    ============================================\n",
      "    \n"
     ]
    },
    {
     "name": "stderr",
     "output_type": "stream",
     "text": [
      "train: 100%|██████████| 600/600 [01:39<00:00,  6.03it/s]\n",
      "valid: 100%|██████████| 258/258 [00:39<00:00,  6.45it/s]\n"
     ]
    },
    {
     "name": "stdout",
     "output_type": "stream",
     "text": [
      "\n",
      "                === 4th Epoch ===\n",
      "    \n",
      "        Train Loss : 0.038 | Valid Loss : 0.035\n",
      "        \n",
      "                    ============================================\n",
      "                    ============================================\n",
      "    \n"
     ]
    },
    {
     "name": "stderr",
     "output_type": "stream",
     "text": [
      "train: 100%|██████████| 600/600 [01:39<00:00,  6.03it/s]\n",
      "valid: 100%|██████████| 258/258 [00:40<00:00,  6.39it/s]\n"
     ]
    },
    {
     "name": "stdout",
     "output_type": "stream",
     "text": [
      "\n",
      "                === 5th Epoch ===\n",
      "    \n",
      "        Train Loss : 0.034 | Valid Loss : 0.031\n",
      "        \n",
      "                    ============================================\n",
      "                    ============================================\n",
      "    \n"
     ]
    },
    {
     "name": "stderr",
     "output_type": "stream",
     "text": [
      "train: 100%|██████████| 600/600 [01:39<00:00,  6.00it/s]\n",
      "valid: 100%|██████████| 258/258 [00:40<00:00,  6.43it/s]\n"
     ]
    },
    {
     "name": "stdout",
     "output_type": "stream",
     "text": [
      "\n",
      "                === 6th Epoch ===\n",
      "    \n",
      "        Train Loss : 0.03 | Valid Loss : 0.027\n",
      "        \n",
      "                    ============================================\n",
      "                    ============================================\n",
      "    \n"
     ]
    },
    {
     "name": "stderr",
     "output_type": "stream",
     "text": [
      "train: 100%|██████████| 600/600 [01:38<00:00,  6.12it/s]\n",
      "valid: 100%|██████████| 258/258 [00:40<00:00,  6.37it/s]\n"
     ]
    },
    {
     "name": "stdout",
     "output_type": "stream",
     "text": [
      "\n",
      "                === 7th Epoch ===\n",
      "    \n",
      "        Train Loss : 0.027 | Valid Loss : 0.024\n",
      "        \n",
      "                    ============================================\n",
      "                    ============================================\n",
      "    \n"
     ]
    },
    {
     "name": "stderr",
     "output_type": "stream",
     "text": [
      "train: 100%|██████████| 600/600 [01:39<00:00,  6.02it/s]\n",
      "valid: 100%|██████████| 258/258 [00:39<00:00,  6.47it/s]\n"
     ]
    },
    {
     "name": "stdout",
     "output_type": "stream",
     "text": [
      "\n",
      "                === 8th Epoch ===\n",
      "    \n",
      "        Train Loss : 0.024 | Valid Loss : 0.022\n",
      "        \n",
      "                    ============================================\n",
      "                    ============================================\n",
      "    \n"
     ]
    },
    {
     "name": "stderr",
     "output_type": "stream",
     "text": [
      "train:  94%|█████████▎| 562/600 [01:32<00:06,  6.17it/s]"
     ]
    }
   ],
   "source": [
    "epoches = 20\n",
    "\n",
    "for proc in range(epoches) : \n",
    "    t_loss = train()\n",
    "    v_loss = evalulate()\n",
    "    print(f\"\"\"\n",
    "                === {proc+1}th Epoch ===\n",
    "    \n",
    "        Train Loss : {round(t_loss, 3)} | Valid Loss : {round(v_loss, 3)}\n",
    "        \n",
    "                    ============================================\n",
    "                    ============================================\n",
    "    \"\"\")"
   ]
  }
 ],
 "metadata": {
  "kernelspec": {
   "display_name": "Python 3",
   "language": "python",
   "name": "python3"
  },
  "language_info": {
   "codemirror_mode": {
    "name": "ipython",
    "version": 3
   },
   "file_extension": ".py",
   "mimetype": "text/x-python",
   "name": "python",
   "nbconvert_exporter": "python",
   "pygments_lexer": "ipython3",
   "version": "3.8.5"
  }
 },
 "nbformat": 4,
 "nbformat_minor": 4
}
