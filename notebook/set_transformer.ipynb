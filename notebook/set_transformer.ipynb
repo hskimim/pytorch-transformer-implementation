{
 "cells": [
  {
   "cell_type": "code",
   "execution_count": 1,
   "metadata": {
    "ExecuteTime": {
     "end_time": "2022-02-06T10:00:09.424291Z",
     "start_time": "2022-02-06T10:00:09.419330Z"
    }
   },
   "outputs": [],
   "source": [
    "import sys\n",
    "sys.path.append(\"..\")"
   ]
  },
  {
   "cell_type": "code",
   "execution_count": 2,
   "metadata": {
    "ExecuteTime": {
     "end_time": "2022-02-06T10:00:10.185721Z",
     "start_time": "2022-02-06T10:00:09.428781Z"
    }
   },
   "outputs": [],
   "source": [
    "from tqdm.notebook import tqdm\n",
    "import random\n",
    "import matplotlib.pyplot as plt\n",
    "\n",
    "import torch\n",
    "import torch.nn as nn\n",
    "import torch.optim as optim\n",
    "\n",
    "from set_transformer.layer import enc_dec"
   ]
  },
  {
   "cell_type": "code",
   "execution_count": 3,
   "metadata": {
    "ExecuteTime": {
     "end_time": "2022-02-06T10:00:10.255637Z",
     "start_time": "2022-02-06T10:00:10.190531Z"
    }
   },
   "outputs": [],
   "source": [
    "d_model = 64\n",
    "d_ff = d_model * 4\n",
    "n_head = 4\n",
    "max_seq_len = 10\n",
    "induc_p = max_seq_len\n",
    "k = 1\n",
    "pad_idx = 0\n",
    "output_dim = 1\n",
    "dropout_p = 0\n",
    "n_enc_layer = 2\n",
    "batch_size = 128\n",
    "\n",
    "device = 'cuda' if torch.cuda.is_available() else 'cpu'"
   ]
  },
  {
   "cell_type": "code",
   "execution_count": 4,
   "metadata": {
    "ExecuteTime": {
     "end_time": "2022-02-06T10:00:14.878588Z",
     "start_time": "2022-02-06T10:00:10.260011Z"
    }
   },
   "outputs": [],
   "source": [
    "model = enc_dec.EncoderDecoder(\n",
    "    d_model,\n",
    "    d_ff,\n",
    "    n_head,\n",
    "    induc_p,\n",
    "    k,\n",
    "    pad_idx,\n",
    "    output_dim,\n",
    "    dropout_p,\n",
    "    n_enc_layer).to(device)"
   ]
  },
  {
   "cell_type": "markdown",
   "metadata": {},
   "source": [
    "___"
   ]
  },
  {
   "cell_type": "code",
   "execution_count": 5,
   "metadata": {
    "ExecuteTime": {
     "end_time": "2022-02-06T10:00:14.886453Z",
     "start_time": "2022-02-06T10:00:14.881895Z"
    }
   },
   "outputs": [],
   "source": [
    "def generate_input_set() : \n",
    "    batch_input_set = torch.zeros(batch_size, max_seq_len)\n",
    "    label = torch.zeros(batch_size)\n",
    "\n",
    "    for idx in range(batch_size) : \n",
    "        seq_len = random.randrange(1, max_seq_len+1)\n",
    "        input_set = torch.rand(seq_len)\n",
    "        batch_input_set[idx,:input_set.shape[0]] = input_set\n",
    "        label[idx] = torch.max(input_set).item()\n",
    "    return batch_input_set, label"
   ]
  },
  {
   "cell_type": "code",
   "execution_count": 6,
   "metadata": {
    "ExecuteTime": {
     "end_time": "2022-02-06T10:00:14.891492Z",
     "start_time": "2022-02-06T10:00:14.887931Z"
    }
   },
   "outputs": [],
   "source": [
    "criterion = nn.L1Loss() # MAE loss\n",
    "optimizer = optim.Adam(model.parameters(), lr=1e-3)"
   ]
  },
  {
   "cell_type": "code",
   "execution_count": 7,
   "metadata": {
    "ExecuteTime": {
     "end_time": "2022-02-06T10:18:58.990476Z",
     "start_time": "2022-02-06T10:00:14.893115Z"
    },
    "scrolled": true
   },
   "outputs": [
    {
     "data": {
      "application/vnd.jupyter.widget-view+json": {
       "model_id": "850ccbda50934fc5b0459bcbfa5e3241",
       "version_major": 2,
       "version_minor": 0
      },
      "text/plain": [
       "  0%|          | 0/20000 [00:00<?, ?it/s]"
      ]
     },
     "metadata": {},
     "output_type": "display_data"
    },
    {
     "name": "stdout",
     "output_type": "stream",
     "text": [
      "Loss at process(0) : 0.3312963843345642\n",
      "Loss at process(1000) : 0.0531528740418846\n",
      "Loss at process(2000) : 0.03361249235395839\n",
      "Loss at process(3000) : 0.02608789377848927\n",
      "Loss at process(4000) : 0.02184998139631263\n",
      "Loss at process(5000) : 0.01923067325229297\n",
      "Loss at process(6000) : 0.017319993651111205\n",
      "Loss at process(7000) : 0.01583250892341803\n",
      "Loss at process(8000) : 0.014680349137766736\n",
      "Loss at process(9000) : 0.013687808452454571\n",
      "Loss at process(10000) : 0.012885282004757082\n",
      "Loss at process(11000) : 0.012252761491788278\n",
      "Loss at process(12000) : 0.011628546589863186\n",
      "Loss at process(13000) : 0.011095991583407294\n",
      "Loss at process(14000) : 0.010652507457131307\n",
      "Loss at process(15000) : 0.010231454359299756\n",
      "Loss at process(16000) : 0.009858791825798546\n",
      "Loss at process(17000) : 0.009517345479250199\n",
      "Loss at process(18000) : 0.009230929610348047\n",
      "Loss at process(19000) : 0.008964337538988325\n"
     ]
    }
   ],
   "source": [
    "loss_ls = []\n",
    "\n",
    "for proc in tqdm(range(20000)) : \n",
    "    x, y = generate_input_set()\n",
    "    \n",
    "    optimizer.zero_grad()\n",
    "    loss = criterion(model(x.to(device)).squeeze(), y.to(device))\n",
    "    loss.backward()\n",
    "    optimizer.step()\n",
    "    \n",
    "    loss_ls.append(loss.item())\n",
    "    if proc % 1000 == 0: \n",
    "        print(f\"Loss at process({proc}) : {sum(loss_ls) / len(loss_ls)}\")"
   ]
  },
  {
   "cell_type": "code",
   "execution_count": 21,
   "metadata": {
    "ExecuteTime": {
     "end_time": "2022-02-06T11:38:09.523721Z",
     "start_time": "2022-02-06T11:38:09.280289Z"
    }
   },
   "outputs": [
    {
     "data": {
      "image/png": "[encoded data removed]",
      "text/plain": [
       "<Figure size 432x288 with 1 Axes>"
      ]
     },
     "metadata": {
      "needs_background": "light"
     },
     "output_type": "display_data"
    }
   ],
   "source": [
    "plt.plot(loss_ls)\n",
    "plt.show()"
   ]
  },
  {
   "cell_type": "code",
   "execution_count": 25,
   "metadata": {
    "ExecuteTime": {
     "end_time": "2022-02-06T11:38:57.526484Z",
     "start_time": "2022-02-06T11:38:57.269866Z"
    }
   },
   "outputs": [
    {
     "data": {
      "image/png": "[encoded data removed]",
      "text/plain": [
       "<Figure size 432x288 with 1 Axes>"
      ]
     },
     "metadata": {
      "needs_background": "light"
     },
     "output_type": "display_data"
    }
   ],
   "source": [
    "x, y = generate_input_set()\n",
    "p = model(x.to(device))\n",
    "\n",
    "plt.scatter(p.squeeze().cpu().data.numpy(), y)\n",
    "plt.grid()\n",
    "plt.show()"
   ]
  }
 ],
 "metadata": {
  "kernelspec": {
   "display_name": "Python 3",
   "language": "python",
   "name": "python3"
  },
  "language_info": {
   "codemirror_mode": {
    "name": "ipython",
    "version": 3
   },
   "file_extension": ".py",
   "mimetype": "text/x-python",
   "name": "python",
   "nbconvert_exporter": "python",
   "pygments_lexer": "ipython3",
   "version": "3.8.5"
  }
 },
 "nbformat": 4,
 "nbformat_minor": 4
}
